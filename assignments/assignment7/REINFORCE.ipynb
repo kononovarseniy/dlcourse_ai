{
 "cells": [
  {
   "cell_type": "markdown",
   "metadata": {
    "colab_type": "text",
    "id": "AbwmoJusmueU"
   },
   "source": [
    "# Reinforcement Learning"
   ]
  },
  {
   "cell_type": "markdown",
   "metadata": {
    "colab_type": "text",
    "id": "7xcuGNp-mueX"
   },
   "source": [
    "В этом задании постараемся разобраться в проблеме обучения с подкреплением, реализуем алгоритм REINFORCE и научим агента с помощью этого алгоритма играть в игру Cartpole."
   ]
  },
  {
   "cell_type": "markdown",
   "metadata": {
    "colab_type": "text",
    "id": "4HoHMD_GmueZ"
   },
   "source": [
    "Установим и импортируем необходимые библиотеки, а также вспомогательные функции для визуализации игры агента."
   ]
  },
  {
   "cell_type": "code",
   "execution_count": 1,
   "metadata": {
    "colab": {},
    "colab_type": "code",
    "id": "kHKfskxa7kaI"
   },
   "outputs": [
    {
     "name": "stdout",
     "output_type": "stream",
     "text": [
      "Requirement already satisfied: gym==0.21 in /data/study/mage/2_dl/dlcourse_ai/.venv/lib/python3.10/site-packages (0.21.0)\n",
      "Requirement already satisfied: numpy>=1.18.0 in /data/study/mage/2_dl/dlcourse_ai/.venv/lib/python3.10/site-packages (from gym==0.21) (1.22.4)\n",
      "Requirement already satisfied: cloudpickle>=1.2.0 in /data/study/mage/2_dl/dlcourse_ai/.venv/lib/python3.10/site-packages (from gym==0.21) (2.1.0)\n",
      "\u001b[33mWARNING: You are using pip version 22.0.4; however, version 22.1.1 is available.\n",
      "You should consider upgrading via the '/data/study/mage/2_dl/dlcourse_ai/.venv/bin/python -m pip install --upgrade pip' command.\u001b[0m\u001b[33m\n",
      "\u001b[0m"
     ]
    }
   ],
   "source": [
    "!pip install gym==0.21\n",
    "#!pip install gym pandas torch matplotlib pyvirtualdisplay > /dev/null 2>&1\n",
    "#!apt-get install -y xvfb python-opengl ffmpeg x11-utils > /dev/null 2>&1"
   ]
  },
  {
   "cell_type": "code",
   "execution_count": 2,
   "metadata": {
    "colab": {},
    "colab_type": "code",
    "id": "WiX0JVM3z0Ru"
   },
   "outputs": [],
   "source": [
    "from IPython.display import clear_output, HTML\n",
    "from IPython import display as ipythondisplay\n",
    "import matplotlib.pyplot as plt\n",
    "%matplotlib inline"
   ]
  },
  {
   "cell_type": "code",
   "execution_count": 3,
   "metadata": {
    "colab": {},
    "colab_type": "code",
    "id": "IsjSHknYl1rj"
   },
   "outputs": [
    {
     "name": "stderr",
     "output_type": "stream",
     "text": [
      "/data/study/mage/2_dl/dlcourse_ai/.venv/lib/python3.10/site-packages/tqdm/auto.py:22: TqdmWarning: IProgress not found. Please update jupyter and ipywidgets. See https://ipywidgets.readthedocs.io/en/stable/user_install.html\n",
      "  from .autonotebook import tqdm as notebook_tqdm\n"
     ]
    }
   ],
   "source": [
    "import numpy as np\n",
    "import glob\n",
    "import time\n",
    "import io\n",
    "import base64\n",
    "import gym\n",
    "from gym.wrappers import Monitor\n",
    "import torch\n",
    "import collections\n",
    "import pandas as pd\n",
    "from torch import nn\n",
    "from torch.optim import Adam\n",
    "from torch.distributions import Categorical"
   ]
  },
  {
   "cell_type": "code",
   "execution_count": 4,
   "metadata": {
    "colab": {},
    "colab_type": "code",
    "id": "b5KfVGq1n_8s"
   },
   "outputs": [
    {
     "data": {
      "text/plain": [
       "<pyvirtualdisplay.display.Display at 0x7f6954462710>"
      ]
     },
     "execution_count": 4,
     "metadata": {},
     "output_type": "execute_result"
    }
   ],
   "source": [
    "from pyvirtualdisplay import Display\n",
    "display = Display(visible=0, size=(1400, 900))\n",
    "display.start()"
   ]
  },
  {
   "cell_type": "code",
   "execution_count": 5,
   "metadata": {
    "colab": {},
    "colab_type": "code",
    "id": "4xGh4QxDnlFw"
   },
   "outputs": [],
   "source": [
    "\"\"\"\n",
    "Utility functions to enable video recording of gym environment and displaying it\n",
    "To enable video, just do \"env = wrap_env(env)\"\"\n",
    "\"\"\"\n",
    "\n",
    "def show_video():\n",
    "    mp4list = glob.glob('video/*.mp4')\n",
    "    if len(mp4list) > 0:\n",
    "        mp4 = mp4list[0]\n",
    "        video = io.open(mp4, 'r+b').read()\n",
    "        encoded = base64.b64encode(video)\n",
    "        ipythondisplay.display(HTML(data='''<video alt=\"test\" autoplay \n",
    "                loop controls style=\"height: 400px;\">\n",
    "                <source src=\"data:video/mp4;base64,{0}\" type=\"video/mp4\" />\n",
    "             </video>'''.format(encoded.decode('ascii'))))\n",
    "    else: \n",
    "        print(\"Could not find video\")\n",
    "    \n",
    "\n",
    "def wrap_env(env):\n",
    "    env = Monitor(env, './video', force=True)\n",
    "    return env"
   ]
  },
  {
   "cell_type": "code",
   "execution_count": 6,
   "metadata": {
    "colab": {},
    "colab_type": "code",
    "id": "Dfi89tXjmuet"
   },
   "outputs": [],
   "source": [
    "device = torch.device('cuda:0' if torch.cuda.is_available() else 'cpu') #позволяет перенести тензор на GPU, если он доступен в системе"
   ]
  },
  {
   "cell_type": "markdown",
   "metadata": {
    "colab_type": "text",
    "id": "AhDVTPxymuez"
   },
   "source": [
    "## OpenAI Gym"
   ]
  },
  {
   "cell_type": "markdown",
   "metadata": {
    "colab_type": "text",
    "id": "VZb-IIq4muez"
   },
   "source": [
    "[OpenAI Gym](https://gym.openai.com) это набор сред для разработки и сравнения алгоритмов обучения с подкреплением."
   ]
  },
  {
   "cell_type": "markdown",
   "metadata": {
    "colab_type": "text",
    "id": "fFkuRjxNmue2"
   },
   "source": [
    "OpenAI Gym предоставляет простой и универсальный API ко многим средам с разными свойствами, как простым так и сложным:\n",
    "* Классические задачи управления и игрушечные примеры, которые можно найти в учебниках и на которых демонстрируется работа алгоритмов обучения с подкреплением (одна из этих сред используется в этом задании)\n",
    "* Игры Atari (оказали огромное влияние на достижения в обучении с подкреплением в последние годы)\n",
    "* 2D и 3D среды для контроля роботов в симуляции (используют проприетарный движок [Mojuco](http://www.mujoco.org))"
   ]
  },
  {
   "cell_type": "markdown",
   "metadata": {
    "colab_type": "text",
    "id": "NIu0Uhj7mue5"
   },
   "source": [
    "Рассмотрим, как устроена среда [CartPole-v0](https://gym.openai.com/envs/CartPole-v0), с которой мы будем работать."
   ]
  },
  {
   "cell_type": "markdown",
   "metadata": {
    "colab_type": "text",
    "id": "KYHUeiMXmue6"
   },
   "source": [
    "Для этого создадим среду и выведем ее описание."
   ]
  },
  {
   "cell_type": "code",
   "execution_count": 7,
   "metadata": {
    "colab": {},
    "colab_type": "code",
    "id": "b9BRqxoDmue7"
   },
   "outputs": [
    {
     "name": "stdout",
     "output_type": "stream",
     "text": [
      "\n",
      "    Description:\n",
      "        A pole is attached by an un-actuated joint to a cart, which moves along\n",
      "        a frictionless track. The pendulum starts upright, and the goal is to\n",
      "        prevent it from falling over by increasing and reducing the cart's\n",
      "        velocity.\n",
      "\n",
      "    Source:\n",
      "        This environment corresponds to the version of the cart-pole problem\n",
      "        described by Barto, Sutton, and Anderson\n",
      "\n",
      "    Observation:\n",
      "        Type: Box(4)\n",
      "        Num     Observation               Min                     Max\n",
      "        0       Cart Position             -4.8                    4.8\n",
      "        1       Cart Velocity             -Inf                    Inf\n",
      "        2       Pole Angle                -0.418 rad (-24 deg)    0.418 rad (24 deg)\n",
      "        3       Pole Angular Velocity     -Inf                    Inf\n",
      "\n",
      "    Actions:\n",
      "        Type: Discrete(2)\n",
      "        Num   Action\n",
      "        0     Push cart to the left\n",
      "        1     Push cart to the right\n",
      "\n",
      "        Note: The amount the velocity that is reduced or increased is not\n",
      "        fixed; it depends on the angle the pole is pointing. This is because\n",
      "        the center of gravity of the pole increases the amount of energy needed\n",
      "        to move the cart underneath it\n",
      "\n",
      "    Reward:\n",
      "        Reward is 1 for every step taken, including the termination step\n",
      "\n",
      "    Starting State:\n",
      "        All observations are assigned a uniform random value in [-0.05..0.05]\n",
      "\n",
      "    Episode Termination:\n",
      "        Pole Angle is more than 12 degrees.\n",
      "        Cart Position is more than 2.4 (center of the cart reaches the edge of\n",
      "        the display).\n",
      "        Episode length is greater than 200.\n",
      "        Solved Requirements:\n",
      "        Considered solved when the average return is greater than or equal to\n",
      "        195.0 over 100 consecutive trials.\n",
      "    \n"
     ]
    }
   ],
   "source": [
    "env = gym.make(\"CartPole-v0\")\n",
    "print(env.env.__doc__)"
   ]
  },
  {
   "cell_type": "markdown",
   "metadata": {
    "colab_type": "text",
    "id": "tovAoT5dmufD"
   },
   "source": [
    "Из этого описания мы можем узнать, как устроены пространства состояний и действий в этой среды, какие награды получаются на каждом шаге, а также, что нам необходимо сделать, чтобы научиться \"решать\" эту среду, а именно достич средней награды больше 195.0 или больше за 100 последовательных запусков агента в этой среде. Именно такого агента мы и попробуем создать и обучить."
   ]
  },
  {
   "cell_type": "markdown",
   "metadata": {
    "colab_type": "text",
    "id": "hZ98fYaxmufF"
   },
   "source": [
    "Но для начала напишем вспомогательную функцию, которая будет принимать на вход среду, агента и число эпизодов, и возвращать среднюю награду за 100 эпизодов. С помощью этой функции мы сможем протестировать, насколько хорошо обучился наш агент, а также визуализировать его поведение в среде."
   ]
  },
  {
   "cell_type": "code",
   "execution_count": 8,
   "metadata": {
    "colab": {},
    "colab_type": "code",
    "id": "0jXEOwd7njUm"
   },
   "outputs": [],
   "source": [
    "def test_agent(env, agent=None, n_episodes=100):\n",
    "    \"\"\"Runs agent for n_episodes in environment and calclates mean reward.\n",
    "    \n",
    "    Args:\n",
    "        env: The environment for agent to play in\n",
    "        agent: The agent to play with. Defaults to None - \n",
    "            in this case random agent is used.\n",
    "        n_episodes: Number of episodes to play. Defaults to 100.\n",
    "\n",
    "    Returns:\n",
    "        Mean reward for 100 episodes.\n",
    "    \"\"\"\n",
    "    total_reward = []\n",
    "    for episode in range(n_episodes):\n",
    "        episode_reward = 0\n",
    "        observation = env.reset()\n",
    "        t = 0\n",
    "        while True:\n",
    "            if agent:\n",
    "                with torch.no_grad():\n",
    "                    probs = agent(torch.FloatTensor(observation).to(device))\n",
    "                    dist = Categorical(probs)\n",
    "                    action = dist.sample().item()\n",
    "            else:\n",
    "                action = env.action_space.sample()\n",
    "            observation, reward, done, info = env.step(action)\n",
    "            episode_reward += reward\n",
    "            t += 1\n",
    "            if done:\n",
    "                print(\"Episode {} finished after {} timesteps\".format(episode+1, t+1))\n",
    "                break\n",
    "        total_reward.append(episode_reward)\n",
    "        env.close()\n",
    "                   \n",
    "    return np.mean(total_reward)"
   ]
  },
  {
   "cell_type": "markdown",
   "metadata": {
    "colab_type": "text",
    "id": "TqnYqFVSmufL"
   },
   "source": [
    "Протестируем и визуализируем случайного агента (параметр ```agent=False```)."
   ]
  },
  {
   "cell_type": "code",
   "execution_count": 9,
   "metadata": {
    "colab": {},
    "colab_type": "code",
    "id": "yqVokBDFmufM",
    "scrolled": true
   },
   "outputs": [
    {
     "name": "stdout",
     "output_type": "stream",
     "text": [
      "Episode 1 finished after 16 timesteps\n",
      "Episode 2 finished after 12 timesteps\n",
      "Episode 3 finished after 12 timesteps\n",
      "Episode 4 finished after 26 timesteps\n",
      "Episode 5 finished after 54 timesteps\n",
      "Episode 6 finished after 11 timesteps\n",
      "Episode 7 finished after 23 timesteps\n",
      "Episode 8 finished after 40 timesteps\n",
      "Episode 9 finished after 36 timesteps\n",
      "Episode 10 finished after 49 timesteps\n",
      "Episode 11 finished after 16 timesteps\n",
      "Episode 12 finished after 54 timesteps\n",
      "Episode 13 finished after 19 timesteps\n",
      "Episode 14 finished after 30 timesteps\n",
      "Episode 15 finished after 16 timesteps\n",
      "Episode 16 finished after 14 timesteps\n",
      "Episode 17 finished after 20 timesteps\n",
      "Episode 18 finished after 30 timesteps\n",
      "Episode 19 finished after 27 timesteps\n",
      "Episode 20 finished after 53 timesteps\n",
      "Episode 21 finished after 16 timesteps\n",
      "Episode 22 finished after 24 timesteps\n",
      "Episode 23 finished after 41 timesteps\n",
      "Episode 24 finished after 11 timesteps\n",
      "Episode 25 finished after 21 timesteps\n",
      "Episode 26 finished after 36 timesteps\n",
      "Episode 27 finished after 36 timesteps\n",
      "Episode 28 finished after 23 timesteps\n",
      "Episode 29 finished after 21 timesteps\n",
      "Episode 30 finished after 15 timesteps\n",
      "Episode 31 finished after 13 timesteps\n",
      "Episode 32 finished after 15 timesteps\n",
      "Episode 33 finished after 16 timesteps\n",
      "Episode 34 finished after 22 timesteps\n",
      "Episode 35 finished after 54 timesteps\n",
      "Episode 36 finished after 22 timesteps\n",
      "Episode 37 finished after 12 timesteps\n",
      "Episode 38 finished after 15 timesteps\n",
      "Episode 39 finished after 20 timesteps\n",
      "Episode 40 finished after 33 timesteps\n",
      "Episode 41 finished after 27 timesteps\n",
      "Episode 42 finished after 14 timesteps\n",
      "Episode 43 finished after 27 timesteps\n",
      "Episode 44 finished after 56 timesteps\n",
      "Episode 45 finished after 23 timesteps\n",
      "Episode 46 finished after 50 timesteps\n",
      "Episode 47 finished after 14 timesteps\n",
      "Episode 48 finished after 12 timesteps\n",
      "Episode 49 finished after 29 timesteps\n",
      "Episode 50 finished after 12 timesteps\n",
      "Episode 51 finished after 15 timesteps\n",
      "Episode 52 finished after 15 timesteps\n",
      "Episode 53 finished after 38 timesteps\n",
      "Episode 54 finished after 28 timesteps\n",
      "Episode 55 finished after 10 timesteps\n",
      "Episode 56 finished after 18 timesteps\n",
      "Episode 57 finished after 36 timesteps\n",
      "Episode 58 finished after 12 timesteps\n",
      "Episode 59 finished after 21 timesteps\n",
      "Episode 60 finished after 35 timesteps\n",
      "Episode 61 finished after 60 timesteps\n",
      "Episode 62 finished after 33 timesteps\n",
      "Episode 63 finished after 37 timesteps\n",
      "Episode 64 finished after 36 timesteps\n",
      "Episode 65 finished after 18 timesteps\n",
      "Episode 66 finished after 16 timesteps\n",
      "Episode 67 finished after 17 timesteps\n",
      "Episode 68 finished after 15 timesteps\n",
      "Episode 69 finished after 14 timesteps\n",
      "Episode 70 finished after 15 timesteps\n",
      "Episode 71 finished after 24 timesteps\n",
      "Episode 72 finished after 16 timesteps\n",
      "Episode 73 finished after 67 timesteps\n",
      "Episode 74 finished after 10 timesteps\n",
      "Episode 75 finished after 32 timesteps\n",
      "Episode 76 finished after 24 timesteps\n",
      "Episode 77 finished after 22 timesteps\n",
      "Episode 78 finished after 46 timesteps\n",
      "Episode 79 finished after 19 timesteps\n",
      "Episode 80 finished after 12 timesteps\n",
      "Episode 81 finished after 45 timesteps\n",
      "Episode 82 finished after 32 timesteps\n",
      "Episode 83 finished after 29 timesteps\n",
      "Episode 84 finished after 12 timesteps\n",
      "Episode 85 finished after 44 timesteps\n",
      "Episode 86 finished after 39 timesteps\n",
      "Episode 87 finished after 21 timesteps\n",
      "Episode 88 finished after 26 timesteps\n",
      "Episode 89 finished after 34 timesteps\n",
      "Episode 90 finished after 14 timesteps\n",
      "Episode 91 finished after 15 timesteps\n",
      "Episode 92 finished after 19 timesteps\n",
      "Episode 93 finished after 26 timesteps\n",
      "Episode 94 finished after 20 timesteps\n",
      "Episode 95 finished after 13 timesteps\n",
      "Episode 96 finished after 23 timesteps\n",
      "Episode 97 finished after 20 timesteps\n",
      "Episode 98 finished after 14 timesteps\n",
      "Episode 99 finished after 32 timesteps\n",
      "Episode 100 finished after 47 timesteps\n"
     ]
    },
    {
     "data": {
      "text/plain": [
       "24.74"
      ]
     },
     "execution_count": 9,
     "metadata": {},
     "output_type": "execute_result"
    }
   ],
   "source": [
    "test_agent(env, agent=False, n_episodes=100)"
   ]
  },
  {
   "cell_type": "markdown",
   "metadata": {
    "colab_type": "text",
    "id": "8bzNtyllmufS"
   },
   "source": [
    "Как видно, наш случайный агент выступает не очень хорошо и в среднем может удержать шест всего около 20 шагов."
   ]
  },
  {
   "cell_type": "markdown",
   "metadata": {
    "colab_type": "text",
    "id": "BNcZLQpzmufU"
   },
   "source": [
    "Напишем функцию для визуализации агента и посмотрим на случайного агента."
   ]
  },
  {
   "cell_type": "code",
   "execution_count": 10,
   "metadata": {
    "colab": {},
    "colab_type": "code",
    "id": "GgThoRPgoMcs"
   },
   "outputs": [],
   "source": [
    "def agent_viz(env=\"CartPole-v0\", agent=None):\n",
    "    \"\"\"Visualizes agent play in the given environment.\n",
    "    \n",
    "    Args:\n",
    "        env: The environment for agent to play in. Defaults to CartPole-v0.\n",
    "        agent: The agent to play with. Defaults to None - \n",
    "            in this case random agent is used.\n",
    "\n",
    "    Returns:\n",
    "        Nothing is returned. Visualization is created and can be showed\n",
    "            with show_video() function.\n",
    "    \"\"\"\n",
    "    env = wrap_env(gym.make(env))\n",
    "    observation = env.reset()\n",
    "    while True:\n",
    "        env.render() \n",
    "        if agent:\n",
    "            with torch.no_grad():\n",
    "                probs = agent(torch.FloatTensor(observation).to(device))\n",
    "                dist = Categorical(probs)\n",
    "                action = dist.sample().item()\n",
    "        else:\n",
    "            action = env.action_space.sample()\n",
    "        observation, reward, done, info = env.step(action)\n",
    "        if done:\n",
    "            break\n",
    "            \n",
    "    env.close()"
   ]
  },
  {
   "cell_type": "code",
   "execution_count": 11,
   "metadata": {
    "colab": {},
    "colab_type": "code",
    "id": "b5FLllE_pHSf"
   },
   "outputs": [
    {
     "data": {
      "text/html": [
       "<video alt=\"test\" autoplay \n",
       "                loop controls style=\"height: 400px;\">\n",
       "                <source src=\"data:video/mp4;base64,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\" type=\"video/mp4\" />\n",
       "             </video>"
      ],
      "text/plain": [
       "<IPython.core.display.HTML object>"
      ]
     },
     "metadata": {},
     "output_type": "display_data"
    }
   ],
   "source": [
    "agent_viz()\n",
    "show_video()"
   ]
  },
  {
   "cell_type": "markdown",
   "metadata": {
    "colab_type": "text",
    "id": "hpQF0xgJmufW"
   },
   "source": [
    "Попробуем применить обучение с подкреплением и алгоритм REINFORCE для того, чтобы в среднем за 100 эпиздов мы держали шест не менее 195 шагов."
   ]
  },
  {
   "cell_type": "markdown",
   "metadata": {
    "colab_type": "text",
    "id": "M2SkO__WmufX"
   },
   "source": [
    "## REINFORCE"
   ]
  },
  {
   "cell_type": "markdown",
   "metadata": {
    "colab_type": "text",
    "id": "QW95huRpmufY"
   },
   "source": [
    "Вспомним, что из себя представляет алгоритм REINFORCE (Sutton & Barto) <img src=\"//i.imgur.com/bnASTrY.png\" width=\"700\">"
   ]
  },
  {
   "cell_type": "markdown",
   "metadata": {
    "colab_type": "text",
    "id": "CFD7oH9mmufZ"
   },
   "source": [
    "1. Инициализуем политику (в качестве политики мы будем использовать глубокую нейронную сеть).\n",
    "2. \"Играем\" в среде эпизод, используя нашу политику, или несколько (мы будем использовать последний вариант) и собираем данные о состояниях, действиях и полученных наградах. \n",
    "3. Для каждого состояния в собранных эпизодах вычисляем сумму дисконтированных наград, полученных из этого состояния, а также логорифм правдоподобия предпринятого действия в этом состоянии для нашей политики.\n",
    "4. Обновляем параметры нашей политики по формуле на схеме."
   ]
  },
  {
   "cell_type": "markdown",
   "metadata": {
    "colab_type": "text",
    "id": "Zjhox1Rdmufa"
   },
   "source": [
    "### Политика"
   ]
  },
  {
   "cell_type": "markdown",
   "metadata": {
    "colab_type": "text",
    "id": "v5KOdiJrmufb"
   },
   "source": [
    "Наша политика должна принимать на вход состояние среды, а на выходе выдавать распределение по действиям, которые мы можем осуществлять в среде.\n",
    "\n",
    "**Задание:** Создать класс нейронной сети со следующей архитектурой ```Linear -> ReLU -> Linear -> Softmax```. Параметрами инициализации должны служить размерности пространства состояний, пространства действий и размер скрытого слоя."
   ]
  },
  {
   "cell_type": "code",
   "execution_count": 12,
   "metadata": {
    "colab": {},
    "colab_type": "code",
    "id": "BSbzinGQidFm"
   },
   "outputs": [],
   "source": [
    "class Policy(nn.Module):\n",
    "    \"\"\"Policy to be used by agent.\n",
    "\n",
    "    Attributes:\n",
    "        state_size: Dimention of the state space of the environment.\n",
    "        act_size: Dimention of the action space of the environment.\n",
    "        hidden_size: Dimention of the hidden state of the agent's policy.\n",
    "    \"\"\"\n",
    "    \n",
    "    def __init__(self, state_size: int, act_size: int, hidden_size: int) -> None:\n",
    "        super().__init__()\n",
    "\n",
    "        self.model = nn.Sequential(\n",
    "            nn.Linear(state_size, hidden_size),\n",
    "            nn.ReLU(inplace=True),\n",
    "            nn.Linear(hidden_size, act_size),\n",
    "            nn.Softmax(),\n",
    "        )\n",
    "\n",
    "    def forward(self, state):\n",
    "        return self.model(state)\n"
   ]
  },
  {
   "cell_type": "markdown",
   "metadata": {
    "colab_type": "text",
    "id": "E0bYNhJ_mufh"
   },
   "source": [
    "### Оценка правдоподобия и расчет суммы дисконтированных наград"
   ]
  },
  {
   "cell_type": "markdown",
   "metadata": {
    "colab_type": "text",
    "id": "QMZIoW8pmufi"
   },
   "source": [
    "**Задание:** Напишем вспомогательная функцию, которая принимает на вход политику, батч траекторий и фактор дисконтирования, и должна вернуть следующие величины: \n",
    "* правдоподобие действия на каждом шаге на траектории посчитанные для всего батча;\n",
    "* дисконтированные суммы наград (reward-to-go) из каждого состояния среды на траектории посчитанные для всего батча;"
   ]
  },
  {
   "cell_type": "markdown",
   "metadata": {
    "colab_type": "text",
    "id": "rcs_Xi-jmufl"
   },
   "source": [
    "**Hint**: Представим батч траекторий как ```list```, в котром также хранится ```list``` для каждой траектории, в котором каждый шаг хранится, как ```namedtuple```:\n",
    "```transition = collections.namedtuple(\"transition\", [\"state\", \"action\", \"reward\"])```"
   ]
  },
  {
   "cell_type": "code",
   "execution_count": 13,
   "metadata": {
    "colab": {},
    "colab_type": "code",
    "id": "eGHfushNmufl"
   },
   "outputs": [],
   "source": [
    "def process_traj_batch(policy, batch, discount):\n",
    "    \"\"\"Computes log probabilities for each action \n",
    "        and rewards-to-go for each state in the batch of trajectories.\n",
    "    \n",
    "    Args:\n",
    "        policy: Policy of the agent.\n",
    "        batch (list of list of collections.namedtuple): Batch of trajectories.\n",
    "        discount (float): Discount factor for rewards-to-go calculation.\n",
    "\n",
    "    Returns:\n",
    "        log_probs (list of torch.FloatTensor): List of log probabilities for\n",
    "            each action in the batch of trajectories.\n",
    "        returns (list of rewards-to-go): List of rewards-to-go for \n",
    "            each state in the batch of trajectories.\n",
    "    \"\"\"\n",
    "    log_probs = []\n",
    "    returns = []\n",
    "    for trajectory in batch:\n",
    "        for i, (state, action, _) in enumerate(trajectory):\n",
    "            log_probs.append(torch.log(policy(state)[action]))\n",
    "        \n",
    "            discounted_reward = 0\n",
    "            for j in reversed(range(i, len(trajectory))):\n",
    "                discounted_reward *= discount\n",
    "                discounted_reward += trajectory[j].reward\n",
    "            returns.append(discounted_reward)\n",
    "    \n",
    "    return log_probs, returns"
   ]
  },
  {
   "cell_type": "markdown",
   "metadata": {
    "colab_type": "text",
    "id": "mp6xKRWXmufp"
   },
   "source": [
    "Ваша реализация функции должна проходить следующий тест."
   ]
  },
  {
   "cell_type": "code",
   "execution_count": 14,
   "metadata": {
    "colab": {},
    "colab_type": "code",
    "id": "qVJnolh-mufq"
   },
   "outputs": [],
   "source": [
    "def test_process_traj_batch(process_traj_batch):\n",
    "    \n",
    "    transition = collections.namedtuple(\"transition\", [\"state\", \"action\", \"reward\"])\n",
    "    \n",
    "    class HelperPolicy(nn.Module):\n",
    "        def __init__(self):\n",
    "            super(HelperPolicy, self).__init__()\n",
    "        \n",
    "            self.act = nn.Sequential(\n",
    "                nn.Linear(4, 2),\n",
    "                nn.Softmax(dim=0),\n",
    "            )\n",
    "        \n",
    "        def forward(self, x):\n",
    "            return self.act(x)\n",
    "        \n",
    "    policy = HelperPolicy()\n",
    "    \n",
    "    for name, param in policy.named_parameters():\n",
    "        if name == \"act.0.weight\":\n",
    "            param.data = torch.tensor([[1.7492, -0.2471, 0.3310, 1.1494],\n",
    "                                       [0.6171, -0.6026, 0.5025, -0.3196]])\n",
    "        else:\n",
    "            param.data = torch.tensor([0.0262, 0.1882])\n",
    "            \n",
    "    batch = [\n",
    "        [\n",
    "            transition(state=torch.tensor([ 0.0462, -0.0018,  0.0372,  0.0063]), action=torch.tensor(0), reward=1.0), \n",
    "            transition(state=torch.tensor([ 0.0462, -0.1975,  0.0373,  0.3105]), action=torch.tensor(1), reward=1.0), \n",
    "            transition(state=torch.tensor([ 0.0422, -0.0029,  0.0435,  0.0298]), action=torch.tensor(0), reward=1.0), \n",
    "            transition(state=torch.tensor([ 0.0422, -0.1986,  0.0441,  0.3359]), action=torch.tensor(0), reward=1.0), \n",
    "        ],\n",
    "        [\n",
    "            transition(state=torch.tensor([ 0.0382, -0.3943,  0.0508,  0.6421]), action=torch.tensor(1), reward=1.0), \n",
    "            transition(state=torch.tensor([ 0.0303, -0.2000,  0.0637,  0.3659]), action=torch.tensor(1), reward=1.0), \n",
    "            transition(state=torch.tensor([ 0.0263, -0.0058,  0.0710,  0.0939]), action=torch.tensor(1), reward=1.0), \n",
    "            transition(state=torch.tensor([ 0.0262,  0.1882,  0.0729, -0.1755]), action=torch.tensor(0), reward=1.0)\n",
    "        ]\n",
    "    ]\n",
    "    \n",
    "    log_probs, returns = process_traj_batch(policy, batch, 0.9)\n",
    "    assert sum(log_probs).item() == -6.3940582275390625, \"Log probabilities calculation is incorrect!!!\"\n",
    "    assert sum(returns) == 18.098, \"Log probabilities calculation is incorrect!!!\"\n",
    "    print(\"Correct!\")"
   ]
  },
  {
   "cell_type": "code",
   "execution_count": 15,
   "metadata": {
    "colab": {},
    "colab_type": "code",
    "id": "_qKrJpyBmufu"
   },
   "outputs": [
    {
     "name": "stdout",
     "output_type": "stream",
     "text": [
      "Correct!\n"
     ]
    }
   ],
   "source": [
    "test_process_traj_batch(process_traj_batch)"
   ]
  },
  {
   "cell_type": "markdown",
   "metadata": {
    "colab_type": "text",
    "id": "7_y4MJPxmufz"
   },
   "source": [
    "### Вспомогательные функции и гиперпараметры"
   ]
  },
  {
   "cell_type": "markdown",
   "metadata": {
    "colab_type": "text",
    "id": "PKF5itlpmuf0"
   },
   "source": [
    "Функция для расчета скользящего среднего - ее мы будем использовать для визуализации наград по эпизодам."
   ]
  },
  {
   "cell_type": "code",
   "execution_count": 16,
   "metadata": {
    "colab": {},
    "colab_type": "code",
    "id": "tHgXs9aPmuf2"
   },
   "outputs": [],
   "source": [
    "moving_average = lambda x, **kw: pd.DataFrame({'x':np.asarray(x)}).x.ewm(**kw).mean().values"
   ]
  },
  {
   "cell_type": "markdown",
   "metadata": {
    "colab_type": "text",
    "id": "P3oqmQmxmuf6"
   },
   "source": [
    "Определим также гиперпараметры."
   ]
  },
  {
   "cell_type": "code",
   "execution_count": 23,
   "metadata": {
    "colab": {},
    "colab_type": "code",
    "id": "cFSLjGjOms0m"
   },
   "outputs": [],
   "source": [
    "STATE_SIZE  = env.observation_space.shape[0] # размерность пространства состояний среды\n",
    "ACT_SIZE = env.action_space.n # размерность пространства действий среды\n",
    "HIDDEN_SIZE = 256 # размер скрытого слоя для политики\n",
    "NUM_EPISODES = 1200 # количество эпиздов, которые будут сыграны для обучения\n",
    "DISCOUNT = 0.99 # фактор дисконтирования\n",
    "TRAIN_EVERY = 20"
   ]
  },
  {
   "cell_type": "markdown",
   "metadata": {
    "colab_type": "text",
    "id": "d1RZfo_1muf-"
   },
   "source": [
    "Инициализуем политику и алгоритм оптимизации - мы будем использовать Adam c праметрами по умолчанию."
   ]
  },
  {
   "cell_type": "code",
   "execution_count": 24,
   "metadata": {
    "colab": {},
    "colab_type": "code",
    "id": "zEKqg4Ykmuf_"
   },
   "outputs": [],
   "source": [
    "policy = Policy(STATE_SIZE, ACT_SIZE, HIDDEN_SIZE).to(device)\n",
    "optimizer = Adam(policy.parameters())"
   ]
  },
  {
   "cell_type": "code",
   "execution_count": 25,
   "metadata": {
    "colab": {},
    "colab_type": "code",
    "id": "EIbRMh3MmugC"
   },
   "outputs": [],
   "source": [
    "transition = collections.namedtuple(\"transition\", [\"state\", \"action\", \"reward\"])"
   ]
  },
  {
   "cell_type": "markdown",
   "metadata": {
    "colab_type": "text",
    "id": "jRRCJTnimugE"
   },
   "source": [
    "### Основной цикл обучения"
   ]
  },
  {
   "cell_type": "markdown",
   "metadata": {
    "colab_type": "text",
    "id": "FcQ4-JMymugE"
   },
   "source": [
    "Теперь, когда мы опредлели вспомогательные функции, то нам следует написать основной цикл обучения агент.\n",
    "В цикле должно происходить следующее:"
   ]
  },
  {
   "cell_type": "markdown",
   "metadata": {
    "colab_type": "text",
    "id": "1wih2vIYmugG"
   },
   "source": [
    "1. Играем количество эпизодов, определенное в гиперпараметре ```NUM_EPISODES```.\n",
    "2. В каждом эпизоде сохраняем информацию о шагах на траектории - состояние, действие и награду.\n",
    "3. В конце каждого эпизода сохраняем вышеуказанную информацию о траектории. \n",
    "4. Периодически обучаемся на собранных эпизодах каждые ```TRAIN_EVERY``` эпизодов:  \n",
    "    4.1. Считаем для собранного батча для каждого шага на трактории правдоподобие и сумму дисконтированных наград.  \n",
    "    4.2. Обновляем параметры политики агента по формуле, приведенной на схеме."
   ]
  },
  {
   "cell_type": "markdown",
   "metadata": {
    "colab_type": "text",
    "id": "gb1eIuJqmugI"
   },
   "source": [
    "**Задание:** Реализовать алгоритм обучения, описанный на схеме и в тексте выше. Шаблон кода алгоритма представлен ниже. При этом следует сохранять сумму ревордов для каждого эпизода в переменную ```returns_history```. Алгоритму потребуется около 1000 эпизодов игры, для того чтобы научиться играть в игру (если после 1000 эпизодов агент играет немного хуже, чем для победы в игре, попробуйте обучать его немного дольше или установите критерий останова - когда средняя награда за 100 последних эпизодов превышает значение в ```env.spec.reward_threshold``` )"
   ]
  },
  {
   "cell_type": "code",
   "execution_count": 26,
   "metadata": {
    "colab": {},
    "colab_type": "code",
    "id": "cvEwjezan5tl"
   },
   "outputs": [
    {
     "data": {
      "image/png": "[encoded data removed]",
      "text/plain": [
       "<Figure size 864x432 with 1 Axes>"
      ]
     },
     "metadata": {
      "needs_background": "light"
     },
     "output_type": "display_data"
    }
   ],
   "source": [
    "returns_history = []\n",
    "traj_batch = []\n",
    "\n",
    "for i in range(NUM_EPISODES):\n",
    "\n",
    "    total_reward = 0\n",
    "    traj = []\n",
    "    observation = torch.FloatTensor(env.reset()).to(device)\n",
    "    t = 0\n",
    "    while True:\n",
    "        with torch.no_grad():\n",
    "            probs = policy(observation)\n",
    "            dist = Categorical(probs)\n",
    "            action = dist.sample().item()\n",
    "        next_observation, reward, done, info = env.step(action)\n",
    "\n",
    "        total_reward += reward\n",
    "        traj.append(transition(observation, torch.tensor(action).cuda(), reward))\n",
    "        observation = torch.FloatTensor(next_observation).to(device)\n",
    "\n",
    "        t += 1\n",
    "        if done:\n",
    "            print(\"Episode {} finished after {} timesteps\".format(i+1, t+1))\n",
    "            break\n",
    "\n",
    "    returns_history.append(total_reward)\n",
    "            \n",
    "    traj_batch.append(traj)\n",
    "    \n",
    "    if i % TRAIN_EVERY:\n",
    "        log_probs, returns = process_traj_batch(policy, traj_batch, DISCOUNT)\n",
    "        loss = -(torch.stack(log_probs) * torch.FloatTensor(returns).to(device)).sum()\n",
    "        optimizer.zero_grad()\n",
    "        loss.backward()\n",
    "        optimizer.step()\n",
    "        \n",
    "        traj_batch = []\n",
    "\n",
    "    if i % 10:\n",
    "        clear_output(True)\n",
    "        plt.figure(figsize=[12, 6])\n",
    "        plt.title('Returns'); plt.grid()\n",
    "        plt.scatter(np.arange(len(returns_history)), returns_history, alpha=0.1)\n",
    "        plt.plot(moving_average(returns_history, span=10, min_periods=10))\n",
    "        plt.show()"
   ]
  },
  {
   "cell_type": "markdown",
   "metadata": {
    "colab_type": "text",
    "id": "Be9Zh-MamugN"
   },
   "source": [
    "Протестируем обученного агента."
   ]
  },
  {
   "cell_type": "code",
   "execution_count": 27,
   "metadata": {
    "colab": {},
    "colab_type": "code",
    "id": "-ry9g_aBmugO"
   },
   "outputs": [
    {
     "name": "stdout",
     "output_type": "stream",
     "text": [
      "Episode 1 finished after 201 timesteps\n",
      "Episode 2 finished after 201 timesteps\n",
      "Episode 3 finished after 201 timesteps\n",
      "Episode 4 finished after 201 timesteps\n",
      "Episode 5 finished after 201 timesteps\n",
      "Episode 6 finished after 201 timesteps\n",
      "Episode 7 finished after 201 timesteps\n",
      "Episode 8 finished after 201 timesteps\n",
      "Episode 9 finished after 201 timesteps\n",
      "Episode 10 finished after 195 timesteps\n",
      "Episode 11 finished after 201 timesteps\n",
      "Episode 12 finished after 110 timesteps\n",
      "Episode 13 finished after 201 timesteps\n",
      "Episode 14 finished after 181 timesteps\n",
      "Episode 15 finished after 201 timesteps\n",
      "Episode 16 finished after 201 timesteps\n",
      "Episode 17 finished after 201 timesteps\n",
      "Episode 18 finished after 160 timesteps\n",
      "Episode 19 finished after 201 timesteps\n",
      "Episode 20 finished after 201 timesteps\n",
      "Episode 21 finished after 201 timesteps\n",
      "Episode 22 finished after 201 timesteps\n",
      "Episode 23 finished after 201 timesteps\n",
      "Episode 24 finished after 201 timesteps\n",
      "Episode 25 finished after 201 timesteps\n",
      "Episode 26 finished after 201 timesteps\n",
      "Episode 27 finished after 201 timesteps\n",
      "Episode 28 finished after 201 timesteps\n",
      "Episode 29 finished after 201 timesteps\n",
      "Episode 30 finished after 201 timesteps\n",
      "Episode 31 finished after 201 timesteps\n",
      "Episode 32 finished after 201 timesteps\n",
      "Episode 33 finished after 201 timesteps\n",
      "Episode 34 finished after 201 timesteps\n",
      "Episode 35 finished after 166 timesteps\n",
      "Episode 36 finished after 201 timesteps\n",
      "Episode 37 finished after 201 timesteps\n",
      "Episode 38 finished after 201 timesteps\n",
      "Episode 39 finished after 201 timesteps\n",
      "Episode 40 finished after 201 timesteps\n",
      "Episode 41 finished after 201 timesteps\n",
      "Episode 42 finished after 201 timesteps\n",
      "Episode 43 finished after 201 timesteps\n",
      "Episode 44 finished after 201 timesteps\n",
      "Episode 45 finished after 201 timesteps\n",
      "Episode 46 finished after 201 timesteps\n",
      "Episode 47 finished after 201 timesteps\n",
      "Episode 48 finished after 157 timesteps\n",
      "Episode 49 finished after 201 timesteps\n",
      "Episode 50 finished after 201 timesteps\n",
      "Episode 51 finished after 201 timesteps\n",
      "Episode 52 finished after 201 timesteps\n",
      "Episode 53 finished after 201 timesteps\n",
      "Episode 54 finished after 201 timesteps\n",
      "Episode 55 finished after 201 timesteps\n",
      "Episode 56 finished after 201 timesteps\n",
      "Episode 57 finished after 201 timesteps\n",
      "Episode 58 finished after 192 timesteps\n",
      "Episode 59 finished after 201 timesteps\n",
      "Episode 60 finished after 201 timesteps\n",
      "Episode 61 finished after 201 timesteps\n",
      "Episode 62 finished after 201 timesteps\n",
      "Episode 63 finished after 201 timesteps\n",
      "Episode 64 finished after 201 timesteps\n",
      "Episode 65 finished after 201 timesteps\n",
      "Episode 66 finished after 201 timesteps\n",
      "Episode 67 finished after 201 timesteps\n",
      "Episode 68 finished after 201 timesteps\n",
      "Episode 69 finished after 201 timesteps\n",
      "Episode 70 finished after 201 timesteps\n",
      "Episode 71 finished after 201 timesteps\n",
      "Episode 72 finished after 201 timesteps\n",
      "Episode 73 finished after 201 timesteps\n",
      "Episode 74 finished after 201 timesteps\n",
      "Episode 75 finished after 201 timesteps\n",
      "Episode 76 finished after 201 timesteps\n",
      "Episode 77 finished after 201 timesteps\n",
      "Episode 78 finished after 201 timesteps\n",
      "Episode 79 finished after 201 timesteps\n",
      "Episode 80 finished after 201 timesteps\n",
      "Episode 81 finished after 201 timesteps\n",
      "Episode 82 finished after 201 timesteps\n",
      "Episode 83 finished after 201 timesteps\n",
      "Episode 84 finished after 201 timesteps\n",
      "Episode 85 finished after 201 timesteps\n",
      "Episode 86 finished after 201 timesteps\n",
      "Episode 87 finished after 201 timesteps\n",
      "Episode 88 finished after 201 timesteps\n",
      "Episode 89 finished after 201 timesteps\n",
      "Episode 90 finished after 201 timesteps\n",
      "Episode 91 finished after 194 timesteps\n",
      "Episode 92 finished after 201 timesteps\n",
      "Episode 93 finished after 201 timesteps\n",
      "Episode 94 finished after 201 timesteps\n",
      "Episode 95 finished after 201 timesteps\n",
      "Episode 96 finished after 201 timesteps\n",
      "Episode 97 finished after 201 timesteps\n",
      "Episode 98 finished after 201 timesteps\n",
      "Episode 99 finished after 201 timesteps\n",
      "Episode 100 finished after 201 timesteps\n"
     ]
    },
    {
     "data": {
      "text/plain": [
       "197.47"
      ]
     },
     "execution_count": 27,
     "metadata": {},
     "output_type": "execute_result"
    }
   ],
   "source": [
    "test_agent(env, agent=policy, n_episodes=100)"
   ]
  },
  {
   "cell_type": "markdown",
   "metadata": {
    "colab_type": "text",
    "id": "rf18pOwCmugS"
   },
   "source": [
    "Обученный агент должен приближаться к искомому значению средней награды за 100 эпизодов 195."
   ]
  },
  {
   "cell_type": "markdown",
   "metadata": {
    "colab_type": "text",
    "id": "Gk3bQdF_mugT"
   },
   "source": [
    "Визуализируем обученного агента."
   ]
  },
  {
   "cell_type": "code",
   "execution_count": 28,
   "metadata": {
    "colab": {},
    "colab_type": "code",
    "id": "c6QvXvwUsct6"
   },
   "outputs": [
    {
     "name": "stderr",
     "output_type": "stream",
     "text": [
      "/data/study/mage/2_dl/dlcourse_ai/.venv/lib/python3.10/site-packages/torch/nn/modules/container.py:141: UserWarning: Implicit dimension choice for softmax has been deprecated. Change the call to include dim=X as an argument.\n",
      "  input = module(input)\n"
     ]
    },
    {
     "data": {
      "text/html": [
       "<video alt=\"test\" autoplay \n",
       "                loop controls style=\"height: 400px;\">\n",
       "                <source src=\"data:video/mp4;base64,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\" type=\"video/mp4\" />\n",
       "             </video>"
      ],
      "text/plain": [
       "<IPython.core.display.HTML object>"
      ]
     },
     "metadata": {},
     "output_type": "display_data"
    }
   ],
   "source": [
    "agent_viz(agent=policy)\n",
    "show_video()"
   ]
  },
  {
   "cell_type": "code",
   "execution_count": 29,
   "metadata": {},
   "outputs": [],
   "source": [
    "#torch.save(policy.state_dict(), \"cartpole_best.pt\")"
   ]
  },
  {
   "cell_type": "markdown",
   "metadata": {
    "colab_type": "text",
    "id": "YKkrymnnmugU"
   },
   "source": [
    "Как видно, агент выучил довольно хорошую стратегию для игры и способен долго удерживать шест."
   ]
  },
  {
   "cell_type": "markdown",
   "metadata": {
    "colab_type": "text",
    "id": "NHxdzJsQmugV"
   },
   "source": [
    "### REINFORCE with baselines (Опционально)"
   ]
  },
  {
   "cell_type": "markdown",
   "metadata": {
    "colab_type": "text",
    "id": "QM0DmpwlmugX"
   },
   "source": [
    "В лекциях вы слышали, что при расчете градиентов для обновления параметров политики агента мы можем вычесть из суммы дисконтированных наград ```baseline``` для уменьшения дисперсии градиентов и ускорения сходимости обучения - такой алгоритм называется REINFORCE with baselines. В качестве ```baseline``` мы можем использовать другую нейронную сеть, которая будет оценивать сумму дисконтированных наград из данного состояния *V(s)*. "
   ]
  },
  {
   "cell_type": "markdown",
   "metadata": {
    "colab_type": "text",
    "id": "jImFlpefmugX"
   },
   "source": [
    "Схема алгоритма REINFORCE with baselines (Sutton & Barto) <img src=\"//i.imgur.com/j3BcbHP.png\" width=\"700\">"
   ]
  },
  {
   "cell_type": "markdown",
   "metadata": {
    "colab_type": "text",
    "id": "ofDdKiKJmugY"
   },
   "source": [
    "**Задание**: Включите в уже разработанный алгоритм вторую нейронную сеть для оценки суммы дисконтированных наград *V(s)*. Используйте разницу между фактической суммой дисконтированных наград и оценкой в формуле функции потерь политики. В качестве функции потерь для *V(s)* используйте ```MSELoss```. Оцените скорость сходимости нового алгоритма."
   ]
  }
 ],
 "metadata": {
  "accelerator": "GPU",
  "colab": {
   "collapsed_sections": [],
   "name": "REINFORCE.ipynb",
   "private_outputs": true,
   "provenance": [],
   "version": "0.3.2"
  },
  "kernelspec": {
   "display_name": "Python 3",
   "language": "python",
   "name": "python3"
  },
  "language_info": {
   "codemirror_mode": {
    "name": "ipython",
    "version": 3
   },
   "file_extension": ".py",
   "mimetype": "text/x-python",
   "name": "python",
   "nbconvert_exporter": "python",
   "pygments_lexer": "ipython3",
   "version": "3.10.4"
  }
 },
 "nbformat": 4,
 "nbformat_minor": 1
}
