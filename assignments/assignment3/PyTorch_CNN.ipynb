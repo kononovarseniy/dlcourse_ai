{
 "cells": [
  {
   "cell_type": "markdown",
   "metadata": {},
   "source": [
    "# Задание 3.2 - сверточные нейронные сети (CNNs) в PyTorch\n",
    "\n",
    "Это упражнение мы буде выполнять в Google Colab - https://colab.research.google.com/  \n",
    "Google Colab позволяет запускать код в notebook в облаке Google, где можно воспользоваться бесплатным GPU!  \n",
    "\n",
    "Авторы курса благодарят компанию Google и надеятся, что праздник не закончится.\n",
    "\n",
    "Туториал по настройке Google Colab:  \n",
    "https://medium.com/deep-learning-turkey/google-colab-free-gpu-tutorial-e113627b9f5d  \n",
    "(Keras инсталлировать не нужно, наш notebook сам установит PyTorch)\n"
   ]
  },
  {
   "cell_type": "code",
   "execution_count": 8,
   "metadata": {
    "colab": {},
    "colab_type": "code",
    "id": "FcXBeP1O7cnY"
   },
   "outputs": [],
   "source": [
    "# # Intstall PyTorch and download data\n",
    "# !pip3 install torch torchvision\n",
    "\n",
    "# !wget -c http://ufldl.stanford.edu/housenumbers/train_32x32.mat http://ufldl.stanford.edu/housenumbers/test_32x32.mat"
   ]
  },
  {
   "cell_type": "code",
   "execution_count": 9,
   "metadata": {
    "colab": {},
    "colab_type": "code",
    "id": "-afwWw-Q85vD"
   },
   "outputs": [],
   "source": [
    "from collections import namedtuple\n",
    "\n",
    "import matplotlib.pyplot as plt\n",
    "import numpy as np\n",
    "import PIL\n",
    "import torch\n",
    "import torch.nn as nn\n",
    "import torch.optim as optim\n",
    "import torchvision.datasets as dset\n",
    "from torch.utils.data.sampler import SubsetRandomSampler\n",
    "\n",
    "from torchvision import transforms"
   ]
  },
  {
   "cell_type": "code",
   "execution_count": 10,
   "metadata": {
    "colab": {},
    "colab_type": "code",
    "id": "NNU-OD9O9ltP"
   },
   "outputs": [],
   "source": [
    "device = torch.device(\"cuda:0\") # Let's make sure GPU is available!"
   ]
  },
  {
   "cell_type": "markdown",
   "metadata": {},
   "source": [
    "# Загружаем данные"
   ]
  },
  {
   "cell_type": "code",
   "execution_count": 11,
   "metadata": {
    "colab": {},
    "colab_type": "code",
    "id": "YAvkoRx-9FsP"
   },
   "outputs": [],
   "source": [
    "# First, lets load the dataset\n",
    "data_train = dset.SVHN('./data/', \n",
    "                       transform=transforms.Compose([\n",
    "                           transforms.ToTensor(),\n",
    "                           transforms.Normalize(mean=[0.43,0.44,0.47],\n",
    "                                               std=[0.20,0.20,0.20])                           \n",
    "                       ])\n",
    "                      )\n",
    "data_test = dset.SVHN('./data/', split='test', transform=transforms.Compose([\n",
    "                           transforms.ToTensor(),\n",
    "                           transforms.Normalize(mean=[0.43,0.44,0.47],\n",
    "                                               std=[0.20,0.20,0.20])                           \n",
    "                       ]))"
   ]
  },
  {
   "cell_type": "markdown",
   "metadata": {},
   "source": [
    "Разделяем данные на training и validation.\n",
    "\n",
    "На всякий случай для подробностей - https://pytorch.org/tutorials/beginner/data_loading_tutorial.html"
   ]
  },
  {
   "cell_type": "code",
   "execution_count": null,
   "metadata": {},
   "outputs": [],
   "source": []
  },
  {
   "cell_type": "code",
   "execution_count": 12,
   "metadata": {
    "colab": {},
    "colab_type": "code",
    "id": "YRnr8CPg7Hli"
   },
   "outputs": [],
   "source": [
    "batch_size = 64\n",
    "\n",
    "data_size = data_train.data.shape[0]\n",
    "validation_split = .2\n",
    "split = int(np.floor(validation_split * data_size))\n",
    "indices = list(range(data_size))\n",
    "np.random.shuffle(indices)\n",
    "\n",
    "train_indices, val_indices = indices[split:], indices[:split]\n",
    "\n",
    "train_sampler = SubsetRandomSampler(train_indices)\n",
    "val_sampler = SubsetRandomSampler(val_indices)\n",
    "\n",
    "train_loader = torch.utils.data.DataLoader(data_train, batch_size=batch_size, \n",
    "                                           sampler=train_sampler)\n",
    "val_loader = torch.utils.data.DataLoader(data_train, batch_size=batch_size,\n",
    "                                         sampler=val_sampler)"
   ]
  },
  {
   "cell_type": "code",
   "execution_count": 13,
   "metadata": {
    "colab": {},
    "colab_type": "code",
    "id": "LyYvt-T67PBG"
   },
   "outputs": [],
   "source": [
    "# We'll use a special helper module to shape it into a flat tensor\n",
    "class Flattener(nn.Module):\n",
    "    def forward(self, x):\n",
    "        batch_size, *_ = x.shape\n",
    "        return x.view(batch_size, -1)"
   ]
  },
  {
   "cell_type": "markdown",
   "metadata": {},
   "source": [
    "Создадим простейшую сеть с новыми слоями:  \n",
    "Convolutional - `nn.Conv2d`  \n",
    "MaxPool - `nn.MaxPool2d`"
   ]
  },
  {
   "cell_type": "code",
   "execution_count": 14,
   "metadata": {
    "colab": {},
    "colab_type": "code",
    "id": "w9SFVGZP7SQd"
   },
   "outputs": [],
   "source": [
    "nn_model = nn.Sequential(\n",
    "            nn.Conv2d(3, 64, 3, padding=1),\n",
    "            nn.ReLU(inplace=True),\n",
    "            nn.MaxPool2d(4),\n",
    "            nn.Conv2d(64, 64, 3, padding=1),\n",
    "            nn.ReLU(inplace=True),\n",
    "            nn.MaxPool2d(4),    \n",
    "            Flattener(),\n",
    "            nn.Linear(64*2*2, 10),\n",
    "          )\n",
    "\n",
    "nn_model.type(torch.cuda.FloatTensor)\n",
    "nn_model.to(device)\n",
    "\n",
    "loss = nn.CrossEntropyLoss().type(torch.cuda.FloatTensor)\n",
    "optimizer = optim.SGD(nn_model.parameters(), lr=1e-1, weight_decay=1e-4)"
   ]
  },
  {
   "cell_type": "markdown",
   "metadata": {},
   "source": [
    "Восстановите функцию `compute_accuracy` из прошлого задания.  \n",
    "Единственное отличие в новом - она должна передать данные на GPU прежде чем прогонять через модель. Сделайте это так же, как это делает функция `train_model`"
   ]
  },
  {
   "cell_type": "code",
   "execution_count": 68,
   "metadata": {
    "colab": {},
    "colab_type": "code",
    "id": "2ek3KVQK7hJ6"
   },
   "outputs": [
    {
     "name": "stdout",
     "output_type": "stream",
     "text": [
      "Average loss: 0.288412, Train accuracy: 0.913439, Val accuracy: 0.891407\n",
      "Average loss: 0.284548, Train accuracy: 0.913354, Val accuracy: 0.891885\n",
      "Average loss: 0.282811, Train accuracy: 0.914394, Val accuracy: 0.897140\n",
      "Average loss: 0.277517, Train accuracy: 0.916510, Val accuracy: 0.894000\n",
      "Average loss: 0.282767, Train accuracy: 0.914292, Val accuracy: 0.896731\n"
     ]
    }
   ],
   "source": [
    "def train_model(model, train_loader, val_loader, loss, optimizer, num_epochs, scheduler=None, scheduler_loss=False):\n",
    "    loss_history = []\n",
    "    train_history = []\n",
    "    val_history = []\n",
    "    for epoch in range(num_epochs):\n",
    "        model.train() # Enter train mode\n",
    "        \n",
    "        loss_accum = 0\n",
    "        correct_samples = 0\n",
    "        total_samples = 0\n",
    "        for i_step, (x, y) in enumerate(train_loader):\n",
    "          \n",
    "            x_gpu = x.to(device)\n",
    "            y_gpu = y.to(device)\n",
    "            prediction = model(x_gpu)    \n",
    "            loss_value = loss(prediction, y_gpu)\n",
    "            optimizer.zero_grad()\n",
    "            loss_value.backward()\n",
    "            optimizer.step()\n",
    "            \n",
    "            _, indices = torch.max(prediction, 1)\n",
    "            correct_samples += torch.sum(indices == y_gpu)\n",
    "            total_samples += y.shape[0]\n",
    "            \n",
    "            loss_accum += loss_value\n",
    "\n",
    "        ave_loss = loss_accum / i_step\n",
    "        train_accuracy = float(correct_samples) / total_samples\n",
    "        val_accuracy = compute_accuracy(model, val_loader)\n",
    "        \n",
    "        loss_history.append(float(ave_loss))\n",
    "        train_history.append(train_accuracy)\n",
    "        val_history.append(val_accuracy)\n",
    "        \n",
    "        print(\"Average loss: %f, Train accuracy: %f, Val accuracy: %f\" % (ave_loss, train_accuracy, val_accuracy))\n",
    "        if scheduler is not None:\n",
    "            if scheduler_loss:\n",
    "                scheduler.step(ave_loss)\n",
    "            else:\n",
    "                scheduler.step()\n",
    "        \n",
    "    return loss_history, train_history, val_history\n",
    "        \n",
    "def compute_accuracy(model, loader):\n",
    "    \"\"\"\n",
    "    Computes accuracy on the dataset wrapped in a loader\n",
    "    \n",
    "    Returns: accuracy as a float value between 0 and 1\n",
    "    \"\"\"\n",
    "    model.eval() # Evaluation mode\n",
    "    correct_samples = 0\n",
    "    total_samples = 0\n",
    "    for i_step, (x, y) in enumerate(loader):\n",
    "        x_gpu = x.to(device)\n",
    "        y_gpu = y.to(device)\n",
    "        predictions = model(x_gpu)\n",
    "        correct_samples += torch.sum(torch.argmax(predictions, 1) == y_gpu)\n",
    "        total_samples += y.shape[0]\n",
    "    \n",
    "    return (correct_samples / total_samples).tolist()\n",
    "\n",
    "loss_history, train_history, val_history = train_model(nn_model, train_loader, val_loader, loss, optimizer, 5)"
   ]
  },
  {
   "cell_type": "markdown",
   "metadata": {
    "colab_type": "text",
    "id": "6a-3a1ZFGEw_"
   },
   "source": [
    "# Аугментация данных (Data augmentation)\n",
    "\n",
    "В работе с изображениями одним из особенно важных методов является аугментация данных - то есть, генерация дополнительных данных для тренировки на основе изначальных.   \n",
    "Таким образом, мы получаем возможность \"увеличить\" набор данных для тренировки, что ведет к лучшей работе сети.\n",
    "Важно, чтобы аугментированные данные были похожи на те, которые могут встретиться в реальной жизни, иначе польза от аугментаций уменьшается и может ухудшить работу сети.\n",
    "\n",
    "С PyTorch идут несколько таких алгоритмов, называемых `transforms`. Более подробно про них можно прочитать тут -\n",
    "https://pytorch.org/tutorials/beginner/data_loading_tutorial.html#transforms\n",
    "\n",
    "Ниже мы используем следующие алгоритмы генерации:\n",
    "- ColorJitter - случайное изменение цвета\n",
    "- RandomHorizontalFlip - горизонтальное отражение с вероятностью 50%\n",
    "- RandomVerticalFlip - вертикальное отражение с вероятностью 50%\n",
    "- RandomRotation - случайный поворот"
   ]
  },
  {
   "cell_type": "code",
   "execution_count": 16,
   "metadata": {
    "colab": {},
    "colab_type": "code",
    "id": "jCWMUWmr7t5g"
   },
   "outputs": [
    {
     "name": "stderr",
     "output_type": "stream",
     "text": [
      "/data/study/mage/2_dl/dlcourse_ai/.venv/lib/python3.10/site-packages/torchvision/transforms/transforms.py:1292: UserWarning: The parameter 'resample' is deprecated since 0.12 and will be removed 0.14. Please use 'interpolation' instead.\n",
      "  warnings.warn(\n"
     ]
    }
   ],
   "source": [
    "tfs = transforms.Compose([\n",
    "    transforms.ColorJitter(hue=.50, saturation=.50),\n",
    "    transforms.RandomHorizontalFlip(),\n",
    "    transforms.RandomVerticalFlip(),\n",
    "    transforms.RandomRotation(50, resample=PIL.Image.BILINEAR),\n",
    "    transforms.ToTensor(),\n",
    "    transforms.Normalize(mean=[0.43,0.44,0.47],\n",
    "                       std=[0.20,0.20,0.20])                           \n",
    "])\n",
    "\n",
    "# Create augmented train dataset\n",
    "data_aug_train = dset.SVHN('./data/', \n",
    "                       transform=tfs\n",
    "                      )\n",
    "\n",
    "train_aug_loader = torch.utils.data.DataLoader(data_aug_train, batch_size=batch_size, \n",
    "                                           sampler=train_sampler)"
   ]
  },
  {
   "cell_type": "markdown",
   "metadata": {},
   "source": [
    "Визуализируем результаты агментации (вообще, смотреть на сгенерированные данные всегда очень полезно)."
   ]
  },
  {
   "cell_type": "code",
   "execution_count": 17,
   "metadata": {
    "colab": {},
    "colab_type": "code",
    "id": "YlJJEro1KZ45"
   },
   "outputs": [
    {
     "data": {
      "image/png": "[encoded data removed]",
      "text/plain": [
       "<Figure size 2160x216 with 10 Axes>"
      ]
     },
     "metadata": {
      "needs_background": "light"
     },
     "output_type": "display_data"
    }
   ],
   "source": [
    "# TODO: Visualize some augmented images!\n",
    "# hint: you can create new datasets and loaders to accomplish this\n",
    "\n",
    "# Based on the visualizations, should we keep all the augmentations?\n",
    "\n",
    "tfs = transforms.Compose([\n",
    "    transforms.ColorJitter(hue=.20, saturation=.20),\n",
    "    #transforms.RandomHorizontalFlip(),\n",
    "    #transforms.RandomVerticalFlip(),\n",
    "    transforms.RandomRotation(10, resample=PIL.Image.BILINEAR),\n",
    "])\n",
    "\n",
    "data_aug_vis = dset.SVHN('./data/', \n",
    "                       transform=tfs\n",
    "                      )\n",
    "\n",
    "def show_data(dataset):\n",
    "    plt.figure(figsize=(30, 3))\n",
    "\n",
    "    for i, (x, y) in enumerate(dataset):\n",
    "        if i == 10:\n",
    "            break\n",
    "        plt.subplot(1, 10, i+1)\n",
    "        plt.grid(False)\n",
    "        plt.imshow(x)\n",
    "        plt.axis('off')\n",
    "\n",
    "show_data(data_aug_vis)"
   ]
  },
  {
   "cell_type": "markdown",
   "metadata": {
    "colab_type": "text",
    "id": "o2LrmsYHoguB"
   },
   "source": [
    "Все ли агментации одинаково полезны на этом наборе данных? Могут ли быть среди них те, которые собьют модель с толку?\n",
    "\n",
    "Выберите из них только корректные"
   ]
  },
  {
   "cell_type": "code",
   "execution_count": 18,
   "metadata": {
    "colab": {},
    "colab_type": "code",
    "id": "evro9ksXGs9u"
   },
   "outputs": [],
   "source": [
    "tfs = transforms.Compose([\n",
    "    transforms.ColorJitter(hue=.20, saturation=.20),\n",
    "    transforms.RandomRotation(10, resample=PIL.Image.BILINEAR),\n",
    "    # TODO: Add good augmentations\n",
    "    transforms.ToTensor(),\n",
    "    transforms.Normalize(mean=[0.43,0.44,0.47],\n",
    "                       std=[0.20,0.20,0.20])                           \n",
    "])\n",
    "\n",
    "data_aug = dset.SVHN('./data/', transform=tfs)\n",
    "\n",
    "# TODO create new instances of loaders with the augmentations you chose\n",
    "train_aug_loader = torch.utils.data.DataLoader(data_aug, batch_size=batch_size, sampler=train_sampler)"
   ]
  },
  {
   "cell_type": "code",
   "execution_count": 19,
   "metadata": {
    "colab": {},
    "colab_type": "code",
    "id": "PeO6Zw0DHqPR"
   },
   "outputs": [
    {
     "name": "stdout",
     "output_type": "stream",
     "text": [
      "Average loss: 0.591176, Train accuracy: 0.820257, Val accuracy: 0.833663\n",
      "Average loss: 0.550703, Train accuracy: 0.833618, Val accuracy: 0.842332\n",
      "Average loss: 0.525873, Train accuracy: 0.839453, Val accuracy: 0.851955\n",
      "Average loss: 0.514592, Train accuracy: 0.844350, Val accuracy: 0.826155\n",
      "Average loss: 0.501095, Train accuracy: 0.847439, Val accuracy: 0.824108\n"
     ]
    }
   ],
   "source": [
    "# Finally, let's train with augmentations!\n",
    "\n",
    "# Note we shouldn't use augmentations on validation\n",
    "\n",
    "loss_history, train_history, val_history = train_model(nn_model, train_aug_loader, val_loader, loss, optimizer, 5)"
   ]
  },
  {
   "cell_type": "markdown",
   "metadata": {
    "colab_type": "text",
    "id": "r0bcioK6JBDK"
   },
   "source": [
    "# LeNet\n",
    "Попробуем имплементировать классическую архитектуру сверточной нейронной сети, предложенную Яном ЛеКуном в 1998 году. В свое время она достигла впечатляющих результатов на MNIST, посмотрим как она справится с SVHN?\n",
    "Она описана в статье [\"Gradient Based Learning Applied to Document Recognition\"](http://yann.lecun.com/exdb/publis/pdf/lecun-01a.pdf), попробуйте прочитать ключевые части и имплементировать предложенную архитетуру на PyTorch.\n",
    "\n",
    "Реализовывать слои и функцию ошибки LeNet, которых нет в PyTorch, **не нужно** - просто возьмите их размеры и переведите в уже известные нам Convolutional, Pooling и Fully Connected layers.\n",
    "\n",
    "Если в статье не очень понятно, можно просто погуглить LeNet и разобраться в деталях :)"
   ]
  },
  {
   "cell_type": "code",
   "execution_count": 24,
   "metadata": {
    "colab": {},
    "colab_type": "code",
    "id": "ieEzZUglJAUB"
   },
   "outputs": [],
   "source": [
    "def make_lenet():\n",
    "    lenet_model = nn.Sequential(\n",
    "        nn.Conv2d(3, 6, 5), # (32,32,3) -> (28, 28, 6)\n",
    "        nn.Tanh(),\n",
    "        nn.AvgPool2d(2, 2), #  (28, 28, 6) -> (14, 14, 6)\n",
    "\n",
    "        nn.Conv2d(6, 16, 5), # (14, 14, 6) -> (10, 10, 16)\n",
    "        nn.Tanh(),\n",
    "        nn.AvgPool2d(2, 2), # (10, 10, 16) -> (5, 5, 16)\n",
    "\n",
    "        Flattener(),\n",
    "\n",
    "        nn.Linear(400, 120),\n",
    "        nn.Tanh(),\n",
    "        nn.Linear(120, 84),\n",
    "        nn.Tanh(),\n",
    "        nn.Linear(84, 10)\n",
    "    )\n",
    "    lenet_model.type(torch.cuda.FloatTensor)\n",
    "    lenet_model.to(device)\n",
    "    return lenet_model\n"
   ]
  },
  {
   "cell_type": "code",
   "execution_count": 23,
   "metadata": {
    "colab": {},
    "colab_type": "code",
    "id": "WMmaPfdeKk9H"
   },
   "outputs": [
    {
     "name": "stdout",
     "output_type": "stream",
     "text": [
      "Average loss: 1.546025, Train accuracy: 0.482544, Val accuracy: 0.793325\n",
      "Average loss: 0.651673, Train accuracy: 0.802716, Val accuracy: 0.843901\n",
      "Average loss: 0.535019, Train accuracy: 0.838685, Val accuracy: 0.853798\n",
      "Average loss: 0.486022, Train accuracy: 0.851790, Val accuracy: 0.861989\n",
      "Average loss: 0.454599, Train accuracy: 0.863154, Val accuracy: 0.871818\n",
      "Average loss: 0.431596, Train accuracy: 0.868102, Val accuracy: 0.875708\n",
      "Average loss: 0.414334, Train accuracy: 0.873699, Val accuracy: 0.871135\n",
      "Average loss: 0.402403, Train accuracy: 0.877453, Val accuracy: 0.882943\n",
      "Average loss: 0.392582, Train accuracy: 0.882043, Val accuracy: 0.882670\n",
      "Average loss: 0.386598, Train accuracy: 0.882043, Val accuracy: 0.885810\n"
     ]
    }
   ],
   "source": [
    "# Let's train it!\n",
    "lenet_model = make_lenet()\n",
    "loss = nn.CrossEntropyLoss().type(torch.cuda.FloatTensor)\n",
    "optimizer = optim.Adam(lenet_model.parameters(), lr=1e-3, weight_decay=1e-3)\n",
    "\n",
    "loss_history, train_history, val_history = train_model(lenet_model, train_aug_loader, val_loader, loss, optimizer, 10)"
   ]
  },
  {
   "cell_type": "markdown",
   "metadata": {
    "colab_type": "text",
    "id": "u_O9qiYySvuj"
   },
   "source": [
    "# Подбор гиперпараметров"
   ]
  },
  {
   "cell_type": "code",
   "execution_count": 80,
   "metadata": {},
   "outputs": [
    {
     "name": "stderr",
     "output_type": "stream",
     "text": [
      "/data/study/mage/2_dl/dlcourse_ai/.venv/lib/python3.10/site-packages/torchvision/transforms/transforms.py:1292: UserWarning: The parameter 'resample' is deprecated since 0.12 and will be removed 0.14. Please use 'interpolation' instead.\n",
      "  warnings.warn(\n"
     ]
    }
   ],
   "source": [
    "common_transformations = transforms.Compose([\n",
    "    transforms.ToTensor(),\n",
    "    transforms.Normalize(mean=[0.43,0.44,0.47], std=[0.20,0.20,0.20])\n",
    "])\n",
    "train_transformations = transforms.Compose([\n",
    "    transforms.ColorJitter(hue=.20, saturation=.20),\n",
    "    transforms.RandomRotation(10, resample=PIL.Image.BILINEAR),\n",
    "    common_transformations\n",
    "])\n",
    "\n",
    "def make_train_val_loaders(batch_size, train_samples):\n",
    "    data_train = dset.SVHN('./data/', transform=train_transformations)\n",
    "    data_val = dset.SVHN('./data/', transform=common_transformations)\n",
    "\n",
    "    data_size = train_samples if train_samples is not None else data_train.data.shape[0]\n",
    "    validation_split = .2\n",
    "    split = int(np.floor(validation_split * data_size))\n",
    "    indices = list(range(data_size))\n",
    "    np.random.shuffle(indices)\n",
    "\n",
    "    train_indices, val_indices = indices[split:], indices[:split]\n",
    "\n",
    "    train_sampler = SubsetRandomSampler(train_indices)\n",
    "    val_sampler = SubsetRandomSampler(val_indices)\n",
    "\n",
    "    train_loader = torch.utils.data.DataLoader(data_train, batch_size=batch_size, sampler=train_sampler)\n",
    "    val_loader = torch.utils.data.DataLoader(data_val, batch_size=batch_size, sampler=val_sampler)\n",
    "    return train_loader, val_loader\n",
    "\n",
    "def make_test_loader(batch_size):\n",
    "    data_test = dset.SVHN('./data/', split='test', transform=common_transformations)\n",
    "    test_loader = torch.utils.data.DataLoader(data_test, batch_size=batch_size)\n",
    "    return test_loader"
   ]
  },
  {
   "cell_type": "code",
   "execution_count": 81,
   "metadata": {
    "colab": {},
    "colab_type": "code",
    "id": "i6mhfdQ9K-N3"
   },
   "outputs": [
    {
     "name": "stdout",
     "output_type": "stream",
     "text": [
      "Checking hyperparameters: Hyperparams(learning_rate=0.1, anneal_coef=0.2, anneal_epochs=(1, 5, 10, 15, 20, 50), reg=0.001)\n",
      "Adjusting learning rate of group 0 to 1.0000e-01.\n",
      "Average loss: 2.807777, Train accuracy: 0.124125, Val accuracy: 0.120250\n",
      "Adjusting learning rate of group 0 to 2.0000e-02.\n",
      "Average loss: 2.357837, Train accuracy: 0.157688, Val accuracy: 0.125500\n",
      "Adjusting learning rate of group 0 to 2.0000e-02.\n",
      "Average loss: 2.341861, Train accuracy: 0.149750, Val accuracy: 0.141250\n",
      "Adjusting learning rate of group 0 to 2.0000e-02.\n",
      "Average loss: 2.327712, Train accuracy: 0.152250, Val accuracy: 0.152250\n",
      "Adjusting learning rate of group 0 to 2.0000e-02.\n",
      "Average loss: 2.319582, Train accuracy: 0.159188, Val accuracy: 0.168500\n",
      "Adjusting learning rate of group 0 to 4.0000e-03.\n",
      "Average loss: 2.261182, Train accuracy: 0.181000, Val accuracy: 0.190250\n",
      "Adjusting learning rate of group 0 to 4.0000e-03.\n",
      "Average loss: 2.240243, Train accuracy: 0.193625, Val accuracy: 0.250250\n",
      "Adjusting learning rate of group 0 to 4.0000e-03.\n",
      "Average loss: 1.557420, Train accuracy: 0.483687, Val accuracy: 0.636250\n",
      "Adjusting learning rate of group 0 to 4.0000e-03.\n",
      "Average loss: 1.004367, Train accuracy: 0.685562, Val accuracy: 0.742750\n",
      "Adjusting learning rate of group 0 to 4.0000e-03.\n",
      "Average loss: 0.840205, Train accuracy: 0.738625, Val accuracy: 0.769250\n",
      "Adjusting learning rate of group 0 to 8.0000e-04.\n",
      "Final validation acuracy: 0.7692500352859497\n",
      "Checking hyperparameters: Hyperparams(learning_rate=0.1, anneal_coef=0.2, anneal_epochs=(1, 5, 10, 15, 20, 50), reg=0.0001)\n",
      "Adjusting learning rate of group 0 to 1.0000e-01.\n",
      "Average loss: 2.840911, Train accuracy: 0.132250, Val accuracy: 0.162500\n",
      "Adjusting learning rate of group 0 to 2.0000e-02.\n",
      "Average loss: 2.369473, Train accuracy: 0.151750, Val accuracy: 0.147000\n",
      "Adjusting learning rate of group 0 to 2.0000e-02.\n",
      "Average loss: 2.337626, Train accuracy: 0.157750, Val accuracy: 0.165500\n",
      "Adjusting learning rate of group 0 to 2.0000e-02.\n",
      "Average loss: 2.339965, Train accuracy: 0.159312, Val accuracy: 0.141250\n",
      "Adjusting learning rate of group 0 to 2.0000e-02.\n",
      "Average loss: 2.335371, Train accuracy: 0.158750, Val accuracy: 0.164000\n",
      "Adjusting learning rate of group 0 to 4.0000e-03.\n",
      "Average loss: 2.258934, Train accuracy: 0.182688, Val accuracy: 0.177750\n",
      "Adjusting learning rate of group 0 to 4.0000e-03.\n",
      "Average loss: 2.239161, Train accuracy: 0.189125, Val accuracy: 0.207750\n",
      "Adjusting learning rate of group 0 to 4.0000e-03.\n",
      "Average loss: 2.149645, Train accuracy: 0.232750, Val accuracy: 0.288750\n",
      "Adjusting learning rate of group 0 to 4.0000e-03.\n",
      "Average loss: 1.948398, Train accuracy: 0.328500, Val accuracy: 0.393750\n",
      "Adjusting learning rate of group 0 to 4.0000e-03.\n",
      "Average loss: 1.655766, Train accuracy: 0.449625, Val accuracy: 0.511750\n",
      "Adjusting learning rate of group 0 to 8.0000e-04.\n",
      "Final validation acuracy: 0.5117500424385071\n",
      "Checking hyperparameters: Hyperparams(learning_rate=0.1, anneal_coef=0.2, anneal_epochs=(1, 5, 10, 15, 20, 50), reg=1e-05)\n",
      "Adjusting learning rate of group 0 to 1.0000e-01.\n",
      "Average loss: 2.778859, Train accuracy: 0.122750, Val accuracy: 0.174000\n",
      "Adjusting learning rate of group 0 to 2.0000e-02.\n",
      "Average loss: 2.370575, Train accuracy: 0.151375, Val accuracy: 0.144500\n",
      "Adjusting learning rate of group 0 to 2.0000e-02.\n",
      "Average loss: 2.347929, Train accuracy: 0.152188, Val accuracy: 0.174250\n",
      "Adjusting learning rate of group 0 to 2.0000e-02.\n",
      "Average loss: 2.343278, Train accuracy: 0.155688, Val accuracy: 0.169500\n",
      "Adjusting learning rate of group 0 to 2.0000e-02.\n",
      "Average loss: 2.344854, Train accuracy: 0.155875, Val accuracy: 0.152000\n",
      "Adjusting learning rate of group 0 to 4.0000e-03.\n",
      "Average loss: 2.264996, Train accuracy: 0.177625, Val accuracy: 0.188750\n",
      "Adjusting learning rate of group 0 to 4.0000e-03.\n",
      "Average loss: 2.258742, Train accuracy: 0.183688, Val accuracy: 0.175500\n",
      "Adjusting learning rate of group 0 to 4.0000e-03.\n",
      "Average loss: 2.257379, Train accuracy: 0.178063, Val accuracy: 0.150750\n",
      "Adjusting learning rate of group 0 to 4.0000e-03.\n",
      "Average loss: 2.244996, Train accuracy: 0.189812, Val accuracy: 0.164250\n",
      "Adjusting learning rate of group 0 to 4.0000e-03.\n",
      "Average loss: 2.247289, Train accuracy: 0.186375, Val accuracy: 0.187500\n",
      "Adjusting learning rate of group 0 to 8.0000e-04.\n",
      "Final validation acuracy: 0.1875000149011612\n",
      "Checking hyperparameters: Hyperparams(learning_rate=0.1, anneal_coef=0.2, anneal_epochs=(1, 5, 10, 15, 20, 50), reg=1e-07)\n",
      "Adjusting learning rate of group 0 to 1.0000e-01.\n",
      "Average loss: 2.874092, Train accuracy: 0.119438, Val accuracy: 0.104000\n",
      "Adjusting learning rate of group 0 to 2.0000e-02.\n",
      "Average loss: 2.351381, Train accuracy: 0.152250, Val accuracy: 0.164000\n",
      "Adjusting learning rate of group 0 to 2.0000e-02.\n",
      "Average loss: 2.329777, Train accuracy: 0.158375, Val accuracy: 0.132500\n",
      "Adjusting learning rate of group 0 to 2.0000e-02.\n",
      "Average loss: 2.350363, Train accuracy: 0.155500, Val accuracy: 0.140000\n",
      "Adjusting learning rate of group 0 to 2.0000e-02.\n",
      "Average loss: 2.354990, Train accuracy: 0.151062, Val accuracy: 0.180250\n",
      "Adjusting learning rate of group 0 to 4.0000e-03.\n",
      "Average loss: 2.261395, Train accuracy: 0.180188, Val accuracy: 0.193500\n",
      "Adjusting learning rate of group 0 to 4.0000e-03.\n",
      "Average loss: 2.257394, Train accuracy: 0.184250, Val accuracy: 0.180500\n",
      "Adjusting learning rate of group 0 to 4.0000e-03.\n",
      "Average loss: 2.251152, Train accuracy: 0.183250, Val accuracy: 0.192250\n",
      "Adjusting learning rate of group 0 to 4.0000e-03.\n",
      "Average loss: 2.245826, Train accuracy: 0.186625, Val accuracy: 0.170500\n",
      "Adjusting learning rate of group 0 to 4.0000e-03.\n",
      "Average loss: 2.247033, Train accuracy: 0.187125, Val accuracy: 0.189500\n",
      "Adjusting learning rate of group 0 to 8.0000e-04.\n",
      "Final validation acuracy: 0.18950000405311584\n",
      "Checking hyperparameters: Hyperparams(learning_rate=0.01, anneal_coef=0.2, anneal_epochs=(1, 5, 10, 15, 20, 50), reg=0.001)\n",
      "Adjusting learning rate of group 0 to 1.0000e-02.\n",
      "Average loss: 2.304078, Train accuracy: 0.160250, Val accuracy: 0.187750\n",
      "Adjusting learning rate of group 0 to 2.0000e-03.\n",
      "Average loss: 2.249260, Train accuracy: 0.190875, Val accuracy: 0.191750\n",
      "Adjusting learning rate of group 0 to 2.0000e-03.\n",
      "Average loss: 1.874348, Train accuracy: 0.358000, Val accuracy: 0.622250\n",
      "Adjusting learning rate of group 0 to 2.0000e-03.\n",
      "Average loss: 1.038099, Train accuracy: 0.675687, Val accuracy: 0.713750\n",
      "Adjusting learning rate of group 0 to 2.0000e-03.\n",
      "Average loss: 0.798611, Train accuracy: 0.749250, Val accuracy: 0.794500\n",
      "Adjusting learning rate of group 0 to 4.0000e-04.\n",
      "Average loss: 0.594121, Train accuracy: 0.819438, Val accuracy: 0.816500\n",
      "Adjusting learning rate of group 0 to 4.0000e-04.\n",
      "Average loss: 0.536131, Train accuracy: 0.838063, Val accuracy: 0.829750\n",
      "Adjusting learning rate of group 0 to 4.0000e-04.\n",
      "Average loss: 0.505775, Train accuracy: 0.849375, Val accuracy: 0.834000\n",
      "Adjusting learning rate of group 0 to 4.0000e-04.\n",
      "Average loss: 0.478800, Train accuracy: 0.857187, Val accuracy: 0.837750\n",
      "Adjusting learning rate of group 0 to 4.0000e-04.\n",
      "Average loss: 0.460622, Train accuracy: 0.861187, Val accuracy: 0.842500\n",
      "Adjusting learning rate of group 0 to 8.0000e-05.\n",
      "Final validation acuracy: 0.8425000309944153\n",
      "Checking hyperparameters: Hyperparams(learning_rate=0.01, anneal_coef=0.2, anneal_epochs=(1, 5, 10, 15, 20, 50), reg=0.0001)\n",
      "Adjusting learning rate of group 0 to 1.0000e-02.\n",
      "Average loss: 2.315597, Train accuracy: 0.161062, Val accuracy: 0.194500\n",
      "Adjusting learning rate of group 0 to 2.0000e-03.\n",
      "Average loss: 2.169794, Train accuracy: 0.222875, Val accuracy: 0.407500\n",
      "Adjusting learning rate of group 0 to 2.0000e-03.\n",
      "Average loss: 1.328838, Train accuracy: 0.574187, Val accuracy: 0.702250\n",
      "Adjusting learning rate of group 0 to 2.0000e-03.\n",
      "Average loss: 0.883856, Train accuracy: 0.726375, Val accuracy: 0.769750\n",
      "Adjusting learning rate of group 0 to 2.0000e-03.\n",
      "Average loss: 0.718990, Train accuracy: 0.777750, Val accuracy: 0.788750\n",
      "Adjusting learning rate of group 0 to 4.0000e-04.\n",
      "Average loss: 0.560098, Train accuracy: 0.826187, Val accuracy: 0.813500\n",
      "Adjusting learning rate of group 0 to 4.0000e-04.\n",
      "Average loss: 0.520287, Train accuracy: 0.845625, Val accuracy: 0.813750\n",
      "Adjusting learning rate of group 0 to 4.0000e-04.\n",
      "Average loss: 0.487775, Train accuracy: 0.850125, Val accuracy: 0.827250\n",
      "Adjusting learning rate of group 0 to 4.0000e-04.\n",
      "Average loss: 0.466020, Train accuracy: 0.858563, Val accuracy: 0.830500\n",
      "Adjusting learning rate of group 0 to 4.0000e-04.\n",
      "Average loss: 0.449269, Train accuracy: 0.864688, Val accuracy: 0.830250\n",
      "Adjusting learning rate of group 0 to 8.0000e-05.\n",
      "Final validation acuracy: 0.8302500247955322\n",
      "Checking hyperparameters: Hyperparams(learning_rate=0.01, anneal_coef=0.2, anneal_epochs=(1, 5, 10, 15, 20, 50), reg=1e-05)\n",
      "Adjusting learning rate of group 0 to 1.0000e-02.\n",
      "Average loss: 2.313792, Train accuracy: 0.155375, Val accuracy: 0.159500\n",
      "Adjusting learning rate of group 0 to 2.0000e-03.\n",
      "Average loss: 2.186546, Train accuracy: 0.211500, Val accuracy: 0.323500\n",
      "Adjusting learning rate of group 0 to 2.0000e-03.\n",
      "Average loss: 1.495288, Train accuracy: 0.516125, Val accuracy: 0.669250\n",
      "Adjusting learning rate of group 0 to 2.0000e-03.\n",
      "Average loss: 0.931467, Train accuracy: 0.710812, Val accuracy: 0.756750\n",
      "Adjusting learning rate of group 0 to 2.0000e-03.\n",
      "Average loss: 0.730456, Train accuracy: 0.775312, Val accuracy: 0.793500\n",
      "Adjusting learning rate of group 0 to 4.0000e-04.\n",
      "Average loss: 0.580097, Train accuracy: 0.820937, Val accuracy: 0.825250\n",
      "Adjusting learning rate of group 0 to 4.0000e-04.\n",
      "Average loss: 0.537892, Train accuracy: 0.836750, Val accuracy: 0.829000\n",
      "Adjusting learning rate of group 0 to 4.0000e-04.\n",
      "Average loss: 0.511730, Train accuracy: 0.841938, Val accuracy: 0.831250\n",
      "Adjusting learning rate of group 0 to 4.0000e-04.\n",
      "Average loss: 0.492041, Train accuracy: 0.850125, Val accuracy: 0.832500\n",
      "Adjusting learning rate of group 0 to 4.0000e-04.\n",
      "Average loss: 0.480986, Train accuracy: 0.855875, Val accuracy: 0.836500\n",
      "Adjusting learning rate of group 0 to 8.0000e-05.\n",
      "Final validation acuracy: 0.8365000486373901\n",
      "Checking hyperparameters: Hyperparams(learning_rate=0.01, anneal_coef=0.2, anneal_epochs=(1, 5, 10, 15, 20, 50), reg=1e-07)\n",
      "Adjusting learning rate of group 0 to 1.0000e-02.\n",
      "Average loss: 2.306641, Train accuracy: 0.157188, Val accuracy: 0.166000\n",
      "Adjusting learning rate of group 0 to 2.0000e-03.\n",
      "Average loss: 2.050388, Train accuracy: 0.280625, Val accuracy: 0.494500\n",
      "Adjusting learning rate of group 0 to 2.0000e-03.\n",
      "Average loss: 1.221967, Train accuracy: 0.612250, Val accuracy: 0.701500\n",
      "Adjusting learning rate of group 0 to 2.0000e-03.\n",
      "Average loss: 0.865008, Train accuracy: 0.731000, Val accuracy: 0.769250\n",
      "Adjusting learning rate of group 0 to 2.0000e-03.\n",
      "Average loss: 0.714740, Train accuracy: 0.775937, Val accuracy: 0.793250\n",
      "Adjusting learning rate of group 0 to 4.0000e-04.\n",
      "Average loss: 0.564265, Train accuracy: 0.827438, Val accuracy: 0.810750\n",
      "Adjusting learning rate of group 0 to 4.0000e-04.\n",
      "Average loss: 0.519472, Train accuracy: 0.840063, Val accuracy: 0.816750\n",
      "Adjusting learning rate of group 0 to 4.0000e-04.\n",
      "Average loss: 0.497896, Train accuracy: 0.846688, Val accuracy: 0.819500\n",
      "Adjusting learning rate of group 0 to 4.0000e-04.\n",
      "Average loss: 0.477019, Train accuracy: 0.852750, Val accuracy: 0.827250\n",
      "Adjusting learning rate of group 0 to 4.0000e-04.\n",
      "Average loss: 0.458330, Train accuracy: 0.861313, Val accuracy: 0.829750\n",
      "Adjusting learning rate of group 0 to 8.0000e-05.\n",
      "Final validation acuracy: 0.8297500610351562\n",
      "Checking hyperparameters: Hyperparams(learning_rate=0.001, anneal_coef=0.2, anneal_epochs=(1, 5, 10, 15, 20, 50), reg=0.001)\n",
      "Adjusting learning rate of group 0 to 1.0000e-03.\n",
      "Average loss: 2.215819, Train accuracy: 0.226312, Val accuracy: 0.286250\n",
      "Adjusting learning rate of group 0 to 2.0000e-04.\n",
      "Average loss: 1.994796, Train accuracy: 0.341625, Val accuracy: 0.416250\n",
      "Adjusting learning rate of group 0 to 2.0000e-04.\n",
      "Average loss: 1.649212, Train accuracy: 0.480625, Val accuracy: 0.556750\n",
      "Adjusting learning rate of group 0 to 2.0000e-04.\n",
      "Average loss: 1.317373, Train accuracy: 0.589375, Val accuracy: 0.629250\n",
      "Adjusting learning rate of group 0 to 2.0000e-04.\n",
      "Average loss: 1.127577, Train accuracy: 0.655312, Val accuracy: 0.689500\n",
      "Adjusting learning rate of group 0 to 4.0000e-05.\n",
      "Average loss: 1.022595, Train accuracy: 0.694875, Val accuracy: 0.699500\n",
      "Adjusting learning rate of group 0 to 4.0000e-05.\n",
      "Average loss: 0.998176, Train accuracy: 0.703187, Val accuracy: 0.710250\n",
      "Adjusting learning rate of group 0 to 4.0000e-05.\n",
      "Average loss: 0.977474, Train accuracy: 0.705750, Val accuracy: 0.716750\n",
      "Adjusting learning rate of group 0 to 4.0000e-05.\n",
      "Average loss: 0.954031, Train accuracy: 0.713063, Val accuracy: 0.720000\n",
      "Adjusting learning rate of group 0 to 4.0000e-05.\n",
      "Average loss: 0.935419, Train accuracy: 0.719313, Val accuracy: 0.726000\n",
      "Adjusting learning rate of group 0 to 8.0000e-06.\n",
      "Final validation acuracy: 0.7260000109672546\n",
      "Checking hyperparameters: Hyperparams(learning_rate=0.001, anneal_coef=0.2, anneal_epochs=(1, 5, 10, 15, 20, 50), reg=0.0001)\n",
      "Adjusting learning rate of group 0 to 1.0000e-03.\n",
      "Average loss: 2.221826, Train accuracy: 0.218250, Val accuracy: 0.252750\n",
      "Adjusting learning rate of group 0 to 2.0000e-04.\n",
      "Average loss: 2.097722, Train accuracy: 0.292687, Val accuracy: 0.337000\n",
      "Adjusting learning rate of group 0 to 2.0000e-04.\n",
      "Average loss: 1.893546, Train accuracy: 0.391562, Val accuracy: 0.458250\n",
      "Adjusting learning rate of group 0 to 2.0000e-04.\n",
      "Average loss: 1.522608, Train accuracy: 0.539500, Val accuracy: 0.595750\n",
      "Adjusting learning rate of group 0 to 2.0000e-04.\n",
      "Average loss: 1.250074, Train accuracy: 0.621563, Val accuracy: 0.653750\n",
      "Adjusting learning rate of group 0 to 4.0000e-05.\n",
      "Average loss: 1.123087, Train accuracy: 0.662625, Val accuracy: 0.669750\n",
      "Adjusting learning rate of group 0 to 4.0000e-05.\n",
      "Average loss: 1.092607, Train accuracy: 0.670813, Val accuracy: 0.677000\n",
      "Adjusting learning rate of group 0 to 4.0000e-05.\n",
      "Average loss: 1.066121, Train accuracy: 0.680625, Val accuracy: 0.684000\n",
      "Adjusting learning rate of group 0 to 4.0000e-05.\n",
      "Average loss: 1.040822, Train accuracy: 0.689813, Val accuracy: 0.695500\n",
      "Adjusting learning rate of group 0 to 4.0000e-05.\n",
      "Average loss: 1.017326, Train accuracy: 0.695250, Val accuracy: 0.703000\n",
      "Adjusting learning rate of group 0 to 8.0000e-06.\n",
      "Final validation acuracy: 0.703000009059906\n",
      "Checking hyperparameters: Hyperparams(learning_rate=0.001, anneal_coef=0.2, anneal_epochs=(1, 5, 10, 15, 20, 50), reg=1e-05)\n",
      "Adjusting learning rate of group 0 to 1.0000e-03.\n",
      "Average loss: 2.222135, Train accuracy: 0.219062, Val accuracy: 0.261750\n",
      "Adjusting learning rate of group 0 to 2.0000e-04.\n",
      "Average loss: 2.088410, Train accuracy: 0.305625, Val accuracy: 0.343750\n",
      "Adjusting learning rate of group 0 to 2.0000e-04.\n",
      "Average loss: 1.886898, Train accuracy: 0.393375, Val accuracy: 0.468500\n",
      "Adjusting learning rate of group 0 to 2.0000e-04.\n",
      "Average loss: 1.524236, Train accuracy: 0.524687, Val accuracy: 0.589750\n",
      "Adjusting learning rate of group 0 to 2.0000e-04.\n",
      "Average loss: 1.240275, Train accuracy: 0.621875, Val accuracy: 0.676250\n",
      "Adjusting learning rate of group 0 to 4.0000e-05.\n",
      "Average loss: 1.107547, Train accuracy: 0.670375, Val accuracy: 0.684750\n",
      "Adjusting learning rate of group 0 to 4.0000e-05.\n",
      "Average loss: 1.076176, Train accuracy: 0.678125, Val accuracy: 0.694750\n",
      "Adjusting learning rate of group 0 to 4.0000e-05.\n",
      "Average loss: 1.043938, Train accuracy: 0.688813, Val accuracy: 0.698500\n",
      "Adjusting learning rate of group 0 to 4.0000e-05.\n",
      "Average loss: 1.020415, Train accuracy: 0.694625, Val accuracy: 0.707750\n",
      "Adjusting learning rate of group 0 to 4.0000e-05.\n",
      "Average loss: 0.993899, Train accuracy: 0.700688, Val accuracy: 0.712750\n",
      "Adjusting learning rate of group 0 to 8.0000e-06.\n",
      "Final validation acuracy: 0.7127500176429749\n",
      "Checking hyperparameters: Hyperparams(learning_rate=0.001, anneal_coef=0.2, anneal_epochs=(1, 5, 10, 15, 20, 50), reg=1e-07)\n",
      "Adjusting learning rate of group 0 to 1.0000e-03.\n",
      "Average loss: 2.193210, Train accuracy: 0.233500, Val accuracy: 0.360500\n",
      "Adjusting learning rate of group 0 to 2.0000e-04.\n",
      "Average loss: 1.799662, Train accuracy: 0.431937, Val accuracy: 0.506500\n",
      "Adjusting learning rate of group 0 to 2.0000e-04.\n",
      "Average loss: 1.447233, Train accuracy: 0.556875, Val accuracy: 0.618750\n",
      "Adjusting learning rate of group 0 to 2.0000e-04.\n",
      "Average loss: 1.200752, Train accuracy: 0.639563, Val accuracy: 0.672500\n",
      "Adjusting learning rate of group 0 to 2.0000e-04.\n",
      "Average loss: 1.047065, Train accuracy: 0.687813, Val accuracy: 0.707000\n",
      "Adjusting learning rate of group 0 to 4.0000e-05.\n",
      "Average loss: 0.962247, Train accuracy: 0.713125, Val accuracy: 0.719250\n",
      "Adjusting learning rate of group 0 to 4.0000e-05.\n",
      "Average loss: 0.944800, Train accuracy: 0.718000, Val accuracy: 0.724750\n",
      "Adjusting learning rate of group 0 to 4.0000e-05.\n",
      "Average loss: 0.929487, Train accuracy: 0.720250, Val accuracy: 0.729750\n",
      "Adjusting learning rate of group 0 to 4.0000e-05.\n",
      "Average loss: 0.909154, Train accuracy: 0.726750, Val accuracy: 0.736000\n",
      "Adjusting learning rate of group 0 to 4.0000e-05.\n",
      "Average loss: 0.895155, Train accuracy: 0.734000, Val accuracy: 0.738250\n",
      "Adjusting learning rate of group 0 to 8.0000e-06.\n",
      "Final validation acuracy: 0.7382500171661377\n",
      "Checking hyperparameters: Hyperparams(learning_rate=0.0001, anneal_coef=0.2, anneal_epochs=(1, 5, 10, 15, 20, 50), reg=0.001)\n",
      "Adjusting learning rate of group 0 to 1.0000e-04.\n",
      "Average loss: 2.264162, Train accuracy: 0.173125, Val accuracy: 0.191750\n",
      "Adjusting learning rate of group 0 to 2.0000e-05.\n",
      "Average loss: 2.233656, Train accuracy: 0.193000, Val accuracy: 0.193000\n",
      "Adjusting learning rate of group 0 to 2.0000e-05.\n",
      "Average loss: 2.230854, Train accuracy: 0.193438, Val accuracy: 0.196250\n",
      "Adjusting learning rate of group 0 to 2.0000e-05.\n",
      "Average loss: 2.227805, Train accuracy: 0.198000, Val accuracy: 0.197750\n",
      "Adjusting learning rate of group 0 to 2.0000e-05.\n",
      "Average loss: 2.224170, Train accuracy: 0.200437, Val accuracy: 0.205000\n",
      "Adjusting learning rate of group 0 to 4.0000e-06.\n",
      "Average loss: 2.221686, Train accuracy: 0.204500, Val accuracy: 0.207250\n",
      "Adjusting learning rate of group 0 to 4.0000e-06.\n",
      "Average loss: 2.220983, Train accuracy: 0.205563, Val accuracy: 0.208500\n",
      "Adjusting learning rate of group 0 to 4.0000e-06.\n",
      "Average loss: 2.220240, Train accuracy: 0.206375, Val accuracy: 0.210750\n",
      "Adjusting learning rate of group 0 to 4.0000e-06.\n",
      "Average loss: 2.219338, Train accuracy: 0.206813, Val accuracy: 0.211750\n",
      "Adjusting learning rate of group 0 to 4.0000e-06.\n",
      "Average loss: 2.219184, Train accuracy: 0.209250, Val accuracy: 0.212500\n",
      "Adjusting learning rate of group 0 to 8.0000e-07.\n",
      "Final validation acuracy: 0.21250000596046448\n",
      "Checking hyperparameters: Hyperparams(learning_rate=0.0001, anneal_coef=0.2, anneal_epochs=(1, 5, 10, 15, 20, 50), reg=0.0001)\n",
      "Adjusting learning rate of group 0 to 1.0000e-04.\n",
      "Average loss: 2.265485, Train accuracy: 0.170187, Val accuracy: 0.189000\n",
      "Adjusting learning rate of group 0 to 2.0000e-05.\n",
      "Average loss: 2.237067, Train accuracy: 0.189625, Val accuracy: 0.189500\n",
      "Adjusting learning rate of group 0 to 2.0000e-05.\n",
      "Average loss: 2.234802, Train accuracy: 0.190250, Val accuracy: 0.189500\n",
      "Adjusting learning rate of group 0 to 2.0000e-05.\n",
      "Average loss: 2.232108, Train accuracy: 0.191188, Val accuracy: 0.192000\n",
      "Adjusting learning rate of group 0 to 2.0000e-05.\n",
      "Average loss: 2.229554, Train accuracy: 0.193500, Val accuracy: 0.198500\n",
      "Adjusting learning rate of group 0 to 4.0000e-06.\n",
      "Average loss: 2.227162, Train accuracy: 0.196875, Val accuracy: 0.196500\n",
      "Adjusting learning rate of group 0 to 4.0000e-06.\n",
      "Average loss: 2.226576, Train accuracy: 0.195750, Val accuracy: 0.196250\n",
      "Adjusting learning rate of group 0 to 4.0000e-06.\n",
      "Average loss: 2.225764, Train accuracy: 0.197063, Val accuracy: 0.197000\n",
      "Adjusting learning rate of group 0 to 4.0000e-06.\n",
      "Average loss: 2.225668, Train accuracy: 0.198313, Val accuracy: 0.197750\n",
      "Adjusting learning rate of group 0 to 4.0000e-06.\n",
      "Average loss: 2.224942, Train accuracy: 0.198250, Val accuracy: 0.199500\n",
      "Adjusting learning rate of group 0 to 8.0000e-07.\n",
      "Final validation acuracy: 0.19950000941753387\n",
      "Checking hyperparameters: Hyperparams(learning_rate=0.0001, anneal_coef=0.2, anneal_epochs=(1, 5, 10, 15, 20, 50), reg=1e-05)\n",
      "Adjusting learning rate of group 0 to 1.0000e-04.\n",
      "Average loss: 2.273277, Train accuracy: 0.168563, Val accuracy: 0.189500\n",
      "Adjusting learning rate of group 0 to 2.0000e-05.\n",
      "Average loss: 2.234836, Train accuracy: 0.190125, Val accuracy: 0.191500\n",
      "Adjusting learning rate of group 0 to 2.0000e-05.\n",
      "Average loss: 2.231738, Train accuracy: 0.193000, Val accuracy: 0.195250\n",
      "Adjusting learning rate of group 0 to 2.0000e-05.\n",
      "Average loss: 2.228626, Train accuracy: 0.197563, Val accuracy: 0.200250\n",
      "Adjusting learning rate of group 0 to 2.0000e-05.\n",
      "Average loss: 2.225430, Train accuracy: 0.201563, Val accuracy: 0.206250\n",
      "Adjusting learning rate of group 0 to 4.0000e-06.\n",
      "Average loss: 2.223495, Train accuracy: 0.203500, Val accuracy: 0.207250\n",
      "Adjusting learning rate of group 0 to 4.0000e-06.\n",
      "Average loss: 2.222623, Train accuracy: 0.203187, Val accuracy: 0.208250\n",
      "Adjusting learning rate of group 0 to 4.0000e-06.\n",
      "Average loss: 2.221901, Train accuracy: 0.204937, Val accuracy: 0.209250\n",
      "Adjusting learning rate of group 0 to 4.0000e-06.\n",
      "Average loss: 2.221372, Train accuracy: 0.205937, Val accuracy: 0.209500\n",
      "Adjusting learning rate of group 0 to 4.0000e-06.\n",
      "Average loss: 2.221212, Train accuracy: 0.206375, Val accuracy: 0.209750\n",
      "Adjusting learning rate of group 0 to 8.0000e-07.\n",
      "Final validation acuracy: 0.2097500115633011\n",
      "Checking hyperparameters: Hyperparams(learning_rate=0.0001, anneal_coef=0.2, anneal_epochs=(1, 5, 10, 15, 20, 50), reg=1e-07)\n",
      "Adjusting learning rate of group 0 to 1.0000e-04.\n",
      "Average loss: 2.266860, Train accuracy: 0.168875, Val accuracy: 0.190000\n",
      "Adjusting learning rate of group 0 to 2.0000e-05.\n",
      "Average loss: 2.237154, Train accuracy: 0.188688, Val accuracy: 0.189250\n",
      "Adjusting learning rate of group 0 to 2.0000e-05.\n",
      "Average loss: 2.234710, Train accuracy: 0.189562, Val accuracy: 0.191000\n",
      "Adjusting learning rate of group 0 to 2.0000e-05.\n",
      "Average loss: 2.231870, Train accuracy: 0.191125, Val accuracy: 0.191750\n",
      "Adjusting learning rate of group 0 to 2.0000e-05.\n",
      "Average loss: 2.228874, Train accuracy: 0.191625, Val accuracy: 0.192750\n",
      "Adjusting learning rate of group 0 to 4.0000e-06.\n",
      "Average loss: 2.226643, Train accuracy: 0.191938, Val accuracy: 0.194000\n",
      "Adjusting learning rate of group 0 to 4.0000e-06.\n",
      "Average loss: 2.226000, Train accuracy: 0.193312, Val accuracy: 0.195750\n",
      "Adjusting learning rate of group 0 to 4.0000e-06.\n",
      "Average loss: 2.225388, Train accuracy: 0.194438, Val accuracy: 0.195750\n",
      "Adjusting learning rate of group 0 to 4.0000e-06.\n",
      "Average loss: 2.224479, Train accuracy: 0.195125, Val accuracy: 0.196500\n",
      "Adjusting learning rate of group 0 to 4.0000e-06.\n",
      "Average loss: 2.224264, Train accuracy: 0.195312, Val accuracy: 0.197000\n",
      "Adjusting learning rate of group 0 to 8.0000e-07.\n",
      "Final validation acuracy: 0.19700001180171967\n"
     ]
    }
   ],
   "source": [
    "# The key hyperparameters we're going to tune are learning speed, annealing rate and regularization\n",
    "# We also encourage you to try different optimizers as well\n",
    "\n",
    "Hyperparams = namedtuple(\"Hyperparams\", ['learning_rate', 'anneal_coef', 'anneal_epochs', 'reg'])\n",
    "RunResult = namedtuple(\"RunResult\", ['model', 'train_history', 'val_history', 'final_val_accuracy'])\n",
    "\n",
    "def run(train_loader, val_loader, hp: Hyperparams, epochs: int) -> RunResult:\n",
    "    lenet_model = make_lenet()\n",
    "    loss = nn.CrossEntropyLoss().type(torch.cuda.FloatTensor)\n",
    "    optimizer = optim.Adam(lenet_model.parameters(), lr=hp.learning_rate, weight_decay=hp.reg)\n",
    "    scheduler = optim.lr_scheduler.MultiStepLR(optimizer, milestones=hp.anneal_epochs, gamma=hp.anneal_coef, verbose=True)\n",
    "\n",
    "    history = train_model(lenet_model, train_loader, val_loader, loss, optimizer, epochs, scheduler=scheduler)\n",
    "    loss_history, train_history, val_history = history\n",
    "    return RunResult(lenet_model, train_history, val_history, val_history[-1])\n",
    "    \n",
    "\n",
    "learning_rates = [1e-1, 1e-2, 1e-3, 1e-4]\n",
    "anneal_coeff = 0.2\n",
    "anneal_epochs = (1, 5, 10, 15, 20, 50)\n",
    "regs = [1e-3, 1e-4, 1e-5, 1e-7]\n",
    "batch_size = 64\n",
    "\n",
    "epoch_num = 10\n",
    "\n",
    "train_loader, val_loader = make_train_val_loaders(batch_size, 20000)\n",
    "\n",
    "# Record all the runs here\n",
    "# Key should be Hyperparams and values should be RunResult\n",
    "run_record = {} \n",
    "\n",
    "for lr in learning_rates:\n",
    "    for reg in regs:\n",
    "        hp = Hyperparams(lr, anneal_coeff, anneal_epochs, reg)\n",
    "        print(f\"Checking hyperparameters: {hp}\")\n",
    "        res = run(train_loader, val_loader, hp, epoch_num)\n",
    "        print(f\"Final validation acuracy: {res.final_val_accuracy}\")\n",
    "        run_record[hp] = res"
   ]
  },
  {
   "cell_type": "code",
   "execution_count": 82,
   "metadata": {
    "colab": {
     "base_uri": "https://localhost:8080/",
     "height": 34
    },
    "colab_type": "code",
    "id": "Y6xExdw8JB1l",
    "outputId": "a9ad86f8-3e29-45cc-d33f-e6170018a4ed"
   },
   "outputs": [
    {
     "name": "stdout",
     "output_type": "stream",
     "text": [
      "Adjusting learning rate of group 0 to 1.0000e-02.\n",
      "Average loss: 1.812261, Train accuracy: 0.364792, Val accuracy: 0.686506\n",
      "Adjusting learning rate of group 0 to 2.0000e-03.\n",
      "Average loss: 0.751535, Train accuracy: 0.768914, Val accuracy: 0.820285\n",
      "Adjusting learning rate of group 0 to 2.0000e-03.\n",
      "Average loss: 0.590890, Train accuracy: 0.820547, Val accuracy: 0.845198\n",
      "Adjusting learning rate of group 0 to 2.0000e-03.\n",
      "Average loss: 0.522180, Train accuracy: 0.842098, Val accuracy: 0.849362\n",
      "Adjusting learning rate of group 0 to 2.0000e-03.\n",
      "Average loss: 0.491147, Train accuracy: 0.850715, Val accuracy: 0.864719\n",
      "Adjusting learning rate of group 0 to 4.0000e-04.\n",
      "Average loss: 0.378571, Train accuracy: 0.888220, Val accuracy: 0.892635\n",
      "Adjusting learning rate of group 0 to 4.0000e-04.\n",
      "Average loss: 0.353638, Train accuracy: 0.897383, Val accuracy: 0.896935\n",
      "Adjusting learning rate of group 0 to 4.0000e-04.\n",
      "Average loss: 0.343267, Train accuracy: 0.899430, Val accuracy: 0.897550\n",
      "Adjusting learning rate of group 0 to 4.0000e-04.\n",
      "Average loss: 0.336686, Train accuracy: 0.902399, Val accuracy: 0.899392\n",
      "Adjusting learning rate of group 0 to 4.0000e-04.\n",
      "Average loss: 0.331264, Train accuracy: 0.903116, Val accuracy: 0.899051\n",
      "Adjusting learning rate of group 0 to 8.0000e-05.\n",
      "Best validation accuracy: 0.90, best hyperparams: Hyperparams(learning_rate=0.01, anneal_coef=0.2, anneal_epochs=(1, 5, 10, 15, 20, 50), reg=0.001)\n"
     ]
    }
   ],
   "source": [
    "best_val_accuracy = None\n",
    "best_hyperparams = None\n",
    "best_run = None\n",
    "\n",
    "for hyperparams, run_result in run_record.items():\n",
    "    if best_val_accuracy is None or best_val_accuracy < run_result.final_val_accuracy:\n",
    "        best_val_accuracy = run_result.final_val_accuracy\n",
    "        best_hyperparams = hyperparams\n",
    "        best_run = run_result\n",
    "# Научим на всех данных\n",
    "train_loader, val_loader = make_train_val_loaders(batch_size, None)\n",
    "best_run = run(train_loader, val_loader, best_hyperparams, epoch_num)\n",
    "best_val_accuracy = best_run.final_val_accuracy\n",
    "\n",
    "print(\"Best validation accuracy: %4.2f, best hyperparams: %s\" % (best_val_accuracy, best_hyperparams))"
   ]
  },
  {
   "cell_type": "code",
   "execution_count": 83,
   "metadata": {},
   "outputs": [
    {
     "data": {
      "image/png": "[encoded data removed]",
      "text/plain": [
       "<Figure size 432x288 with 1 Axes>"
      ]
     },
     "metadata": {
      "needs_background": "light"
     },
     "output_type": "display_data"
    }
   ],
   "source": [
    "plt.plot(best_run.train_history, label=\"train\")\n",
    "plt.plot(best_run.val_history, label=\"val\")\n",
    "plt.legend()\n",
    "plt.show()"
   ]
  },
  {
   "cell_type": "markdown",
   "metadata": {
    "colab_type": "text",
    "id": "LOmsR0uVgtgf"
   },
   "source": [
    "# Свободное упражнение - догоним и перегоним LeNet!\n",
    "\n",
    "Попробуйте найти архитектуру и настройки тренировки, чтобы выступить лучше наших бейзлайнов.\n",
    "\n",
    "Что можно и нужно попробовать:\n",
    "- BatchNormalization (для convolution layers он в PyTorch называется [batchnorm2d](https://pytorch.org/docs/stable/nn.html#batchnorm2d))\n",
    "- Изменить количество слоев и их толщину\n",
    "- Изменять количество эпох тренировки\n",
    "- Попробовать и другие агментации"
   ]
  },
  {
   "cell_type": "code",
   "execution_count": 87,
   "metadata": {
    "colab": {},
    "colab_type": "code",
    "id": "tSVhD747icoc"
   },
   "outputs": [
    {
     "name": "stdout",
     "output_type": "stream",
     "text": [
      "Adjusting learning rate of group 0 to 1.0000e-03.\n",
      "Average loss: 0.640902, Train accuracy: 0.802085, Val accuracy: 0.889427\n",
      "Adjusting learning rate of group 0 to 1.0000e-03.\n",
      "Average loss: 0.378558, Train accuracy: 0.884073, Val accuracy: 0.902942\n",
      "Adjusting learning rate of group 0 to 1.0000e-03.\n",
      "Average loss: 0.336831, Train accuracy: 0.897536, Val accuracy: 0.906901\n",
      "Adjusting learning rate of group 0 to 1.0000e-03.\n",
      "Average loss: 0.312451, Train accuracy: 0.906221, Val accuracy: 0.914204\n",
      "Adjusting learning rate of group 0 to 2.0000e-04.\n",
      "Average loss: 0.218185, Train accuracy: 0.937617, Val accuracy: 0.933929\n",
      "Adjusting learning rate of group 0 to 2.0000e-04.\n",
      "Average loss: 0.187332, Train accuracy: 0.946354, Val accuracy: 0.937342\n",
      "Adjusting learning rate of group 0 to 2.0000e-04.\n",
      "Average loss: 0.167450, Train accuracy: 0.952240, Val accuracy: 0.936455\n",
      "Adjusting learning rate of group 0 to 2.0000e-04.\n",
      "Average loss: 0.152490, Train accuracy: 0.957274, Val accuracy: 0.936114\n",
      "Adjusting learning rate of group 0 to 4.0000e-05.\n",
      "Average loss: 0.116258, Train accuracy: 0.968126, Val accuracy: 0.939117\n",
      "Adjusting learning rate of group 0 to 4.0000e-05.\n",
      "Average loss: 0.104472, Train accuracy: 0.973552, Val accuracy: 0.940004\n",
      "Adjusting learning rate of group 0 to 4.0000e-05.\n"
     ]
    }
   ],
   "source": [
    "batch_size = 64\n",
    "num_epochs = 10\n",
    "train_loader, val_loader = make_train_val_loaders(batch_size, None)\n",
    "\n",
    "nn_model = nn.Sequential(\n",
    "    # 32*32*3\n",
    "    nn.Conv2d(in_channels=3, out_channels=8, kernel_size=5),\n",
    "    nn.BatchNorm2d(num_features=8),\n",
    "    nn.MaxPool2d(kernel_size=2),\n",
    "    nn.ReLU(inplace=True),\n",
    "    # 14*14*8\n",
    "    nn.Conv2d(in_channels=8, out_channels=16, kernel_size=5, padding=2),\n",
    "    nn.BatchNorm2d(num_features=16),\n",
    "    nn.ReLU(inplace=True),\n",
    "    nn.Conv2d(in_channels=16, out_channels=32, kernel_size=5, padding=2),\n",
    "    nn.BatchNorm2d(num_features=32),\n",
    "    nn.MaxPool2d(kernel_size=2),\n",
    "    nn.ReLU(inplace=True),\n",
    "    # 7*7*32\n",
    "    nn.Conv2d(in_channels=32, out_channels=64, kernel_size=3),\n",
    "    nn.BatchNorm2d(num_features=64),\n",
    "    nn.ReLU(inplace=True),\n",
    "    # 5*5*64\n",
    "    Flattener(),\n",
    "    nn.Linear(5*5*64, 320),\n",
    "    nn.BatchNorm1d(num_features=320),\n",
    "    nn.ReLU(),\n",
    "    nn.Linear(320, 64),\n",
    "    nn.BatchNorm1d(num_features=64),\n",
    "    nn.ReLU(),\n",
    "    nn.Linear(64, 10)\n",
    "\n",
    "    # nn.Conv2d(3, 2, 5, padding=2),\n",
    "    # nn.ReLU(),\n",
    "    # nn.Conv2d(2, 6, 5), # (32,32,1) -> (28, 28, 6)\n",
    "    # nn.ReLU(),\n",
    "    # nn.AvgPool2d(2, 2), #  (28, 28, 6) -> (14, 14, 6)\n",
    "\n",
    "    # nn.Conv2d(6, 16, 5), # (14, 14, 6) -> (10, 10, 16)\n",
    "    # nn.ReLU(),\n",
    "    # nn.AvgPool2d(2, 2), # (10, 10, 16) -> (5, 5, 16)\n",
    "\n",
    "    # Flattener(),\n",
    "\n",
    "    # nn.Linear(400, 120),\n",
    "    # nn.ReLU(),\n",
    "    # nn.Linear(120, 84),\n",
    "    # nn.ReLU(),\n",
    "    # nn.Linear(84, 10)\n",
    ")\n",
    "nn_model.type(torch.cuda.FloatTensor)\n",
    "nn_model.to(device)\n",
    "\n",
    "loss = nn.CrossEntropyLoss().type(torch.cuda.FloatTensor)\n",
    "optimizer = optim.Adam(nn_model.parameters(), lr=1e-3, weight_decay=1e-3)\n",
    "scheduler = optim.lr_scheduler.StepLR(optimizer, gamma=0.2, step_size=4, verbose=True)\n",
    "\n",
    "_, train_history, val_history = train_model(nn_model, train_loader, val_loader, loss, optimizer, num_epochs, scheduler)"
   ]
  },
  {
   "cell_type": "code",
   "execution_count": 88,
   "metadata": {},
   "outputs": [
    {
     "name": "stdout",
     "output_type": "stream",
     "text": [
      "Final validation accuracy: 0.9400040507316589\n"
     ]
    },
    {
     "data": {
      "image/png": "[encoded data removed]",
      "text/plain": [
       "<Figure size 432x288 with 1 Axes>"
      ]
     },
     "metadata": {
      "needs_background": "light"
     },
     "output_type": "display_data"
    }
   ],
   "source": [
    "print(f\"Final validation accuracy: {val_history[-1]}\")\n",
    "plt.plot(train_history, label=\"train\")\n",
    "plt.plot(val_history, label=\"val\")\n",
    "plt.legend()\n",
    "plt.show()"
   ]
  },
  {
   "cell_type": "markdown",
   "metadata": {
    "colab_type": "text",
    "id": "ubeKgBcnhx7N"
   },
   "source": [
    "# Финальный аккорд - проверим лучшую модель на test set\n",
    "\n",
    "В качестве разнообразия - напишите код для прогона модели на test set вы.\n",
    "\n",
    "В результате вы должны натренировать модель, которая покажет более **90%** точности на test set.  \n",
    "Как водится, лучший результат в группе получит дополнительные баллы!"
   ]
  },
  {
   "cell_type": "code",
   "execution_count": 89,
   "metadata": {
    "colab": {},
    "colab_type": "code",
    "id": "EIqM1kdeh-hd"
   },
   "outputs": [
    {
     "name": "stdout",
     "output_type": "stream",
     "text": [
      "Final test accuracy -  0.9416103363037109\n"
     ]
    }
   ],
   "source": [
    "test_loader = make_test_loader(batch_size)\n",
    "final_test_accuracy = compute_accuracy(nn_model, test_loader)\n",
    "print(\"Final test accuracy - \", final_test_accuracy)"
   ]
  },
  {
   "cell_type": "code",
   "execution_count": null,
   "metadata": {
    "colab": {},
    "colab_type": "code",
    "id": "BfH6qip6kVX_"
   },
   "outputs": [],
   "source": []
  }
 ],
 "metadata": {
  "accelerator": "GPU",
  "colab": {
   "collapsed_sections": [],
   "name": "PyTorch_CNN.ipynb",
   "provenance": [],
   "version": "0.3.2"
  },
  "kernelspec": {
   "display_name": "Python 3",
   "language": "python",
   "name": "python3"
  },
  "language_info": {
   "codemirror_mode": {
    "name": "ipython",
    "version": 3
   },
   "file_extension": ".py",
   "mimetype": "text/x-python",
   "name": "python",
   "nbconvert_exporter": "python",
   "pygments_lexer": "ipython3",
   "version": "3.10.2"
  }
 },
 "nbformat": 4,
 "nbformat_minor": 1
}
