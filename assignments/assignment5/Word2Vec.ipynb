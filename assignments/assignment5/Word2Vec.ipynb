{
 "cells": [
  {
   "cell_type": "markdown",
   "metadata": {},
   "source": [
    "# Задание 5.1 - Word2Vec\n",
    "\n",
    "В этом задании мы натренируем свои word vectors на очень небольшом датасете.\n",
    "Мы будем использовать самую простую версию word2vec, без negative sampling и других оптимизаций.\n",
    "\n",
    "Перед запуском нужно запустить скрипт `download_data.sh` чтобы скачать данные.\n",
    "\n",
    "Датасет и модель очень небольшие, поэтому это задание можно выполнить и без GPU."
   ]
  },
  {
   "cell_type": "code",
   "execution_count": 1,
   "metadata": {},
   "outputs": [],
   "source": [
    "import torch\n",
    "import torch.nn as nn\n",
    "import torch.optim as optim\n",
    "from torch.utils.data import Dataset\n",
    "\n",
    "from torchvision import transforms\n",
    "\n",
    "import numpy as np\n",
    "import matplotlib.pyplot as plt\n",
    "\n",
    "# We'll use Principal Component Analysis (PCA) to visualize word vectors,\n",
    "# so make sure you install dependencies from requirements.txt!\n",
    "from sklearn.decomposition import PCA \n",
    "\n",
    "%matplotlib inline"
   ]
  },
  {
   "cell_type": "code",
   "execution_count": 2,
   "metadata": {},
   "outputs": [],
   "source": [
    "device = torch.device(\"cuda\")"
   ]
  },
  {
   "cell_type": "code",
   "execution_count": 3,
   "metadata": {
    "scrolled": false
   },
   "outputs": [
    {
     "name": "stdout",
     "output_type": "stream",
     "text": [
      "Num tokens: 19538\n",
      "groove ['pegged', 'new', 'dating']\n",
      "artifact ['capturing', 'brief']\n",
      "humor ['lives', 'altar', 'heart', 'very']\n",
      "disappear ['3-d', 'vertiginous', 'perspectives']\n",
      "although ['and', 'tuck']\n"
     ]
    }
   ],
   "source": [
    "import os\n",
    "import numpy as np\n",
    "\n",
    "class StanfordTreeBank:\n",
    "    '''\n",
    "    Wrapper for accessing Stanford Tree Bank Dataset\n",
    "    https://nlp.stanford.edu/sentiment/treebank.html\n",
    "    \n",
    "    Parses dataset, gives each token and index and provides lookups\n",
    "    from string token to index and back\n",
    "    \n",
    "    Allows to generate random context with sampling strategy described in\n",
    "    word2vec paper:\n",
    "    https://papers.nips.cc/paper/5021-distributed-representations-of-words-and-phrases-and-their-compositionality.pdf\n",
    "    '''\n",
    "    def __init__(self):\n",
    "        self.index_by_token = {}\n",
    "        self.token_by_index = []\n",
    "\n",
    "        self.sentences = []\n",
    "\n",
    "        self.token_freq = {}\n",
    "        \n",
    "        self.token_reject_by_index = None\n",
    "\n",
    "    def load_dataset(self, folder):\n",
    "        filename = os.path.join(folder, \"datasetSentences.txt\")\n",
    "\n",
    "        with open(filename, \"r\", encoding=\"latin1\") as f:\n",
    "            l = f.readline() # skip the first line\n",
    "            \n",
    "            for l in f:\n",
    "                splitted_line = l.strip().split()\n",
    "                words = [w.lower() for w in splitted_line[1:]] # First one is a number\n",
    "                    \n",
    "                self.sentences.append(words)\n",
    "                for word in words:\n",
    "                    if word in self.token_freq:\n",
    "                        self.token_freq[word] +=1 \n",
    "                    else:\n",
    "                        index = len(self.token_by_index)\n",
    "                        self.token_freq[word] = 1\n",
    "                        self.index_by_token[word] = index\n",
    "                        self.token_by_index.append(word)\n",
    "        self.compute_token_prob()\n",
    "                        \n",
    "    def compute_token_prob(self):\n",
    "        words_count = np.array([self.token_freq[token] for token in self.token_by_index])\n",
    "        words_freq = words_count / np.sum(words_count)\n",
    "        \n",
    "        # Following sampling strategy from word2vec paper:\n",
    "        # https://papers.nips.cc/paper/5021-distributed-representations-of-words-and-phrases-and-their-compositionality.pdf\n",
    "        self.token_reject_by_index = 1- np.sqrt(1e-5/words_freq)\n",
    "    \n",
    "    def check_reject(self, word):\n",
    "        return np.random.rand() > self.token_reject_by_index[self.index_by_token[word]]\n",
    "        \n",
    "    def get_random_context(self, context_length=5):\n",
    "        \"\"\"\n",
    "        Returns tuple of center word and list of context words\n",
    "        \"\"\"\n",
    "        sentence_sampled = []\n",
    "        while len(sentence_sampled) <= 2:\n",
    "            sentence_index = np.random.randint(len(self.sentences)) \n",
    "            sentence = self.sentences[sentence_index]\n",
    "            sentence_sampled = [word for word in sentence if self.check_reject(word)]\n",
    "    \n",
    "        center_word_index = np.random.randint(len(sentence_sampled))\n",
    "        \n",
    "        words_before = sentence_sampled[max(center_word_index - context_length//2,0):center_word_index]\n",
    "        words_after = sentence_sampled[center_word_index+1: center_word_index+1+context_length//2]\n",
    "        \n",
    "        return sentence_sampled[center_word_index], words_before+words_after\n",
    "    \n",
    "    def num_tokens(self):\n",
    "        return len(self.token_by_index)\n",
    "        \n",
    "data = StanfordTreeBank()\n",
    "data.load_dataset(\"./stanfordSentimentTreebank/\")\n",
    "\n",
    "print(\"Num tokens:\", data.num_tokens())\n",
    "for i in range(5):\n",
    "    center_word, other_words = data.get_random_context(5)\n",
    "    print(center_word, other_words)"
   ]
  },
  {
   "cell_type": "markdown",
   "metadata": {},
   "source": [
    "# Имплеменируем PyTorch-style Dataset для Word2Vec\n",
    "\n",
    "Этот Dataset должен сгенерировать много случайных контекстов и превратить их в сэмплы для тренировки.\n",
    "\n",
    "Напоминаем, что word2vec модель получает на вход One-hot вектор слова и тренирует простую сеть для предсказания на его основе соседних слов.\n",
    "Из набора слово-контекст создается N сэмплов (где N - количество слов в контексте):\n",
    "\n",
    "Например:\n",
    "\n",
    "Слово: `orders` и контекст: `['love', 'nicest', 'to', '50-year']` создадут 4 сэмпла:\n",
    "- input: `orders`, target: `love`\n",
    "- input: `orders`, target: `nicest`\n",
    "- input: `orders`, target: `to`\n",
    "- input: `orders`, target: `50-year`\n",
    "\n",
    "Все слова на входе и на выходе закодированы через one-hot encoding, с размером вектора равным количеству токенов."
   ]
  },
  {
   "cell_type": "code",
   "execution_count": 4,
   "metadata": {},
   "outputs": [
    {
     "name": "stdout",
     "output_type": "stream",
     "text": [
      "Sample - input: tensor([0., 0., 0.,  ..., 0., 0., 0.]), target: 13514\n"
     ]
    }
   ],
   "source": [
    "def make_oh(i, n):\n",
    "    oh = torch.zeros(n)\n",
    "    oh[i] = 1.0\n",
    "    return oh\n",
    "\n",
    "class Word2VecPlain(Dataset):\n",
    "    '''\n",
    "    PyTorch Dataset for plain Word2Vec.\n",
    "    Accepts StanfordTreebank as data and is able to generate dataset based on\n",
    "    a number of random contexts\n",
    "    '''\n",
    "    def __init__(self, data, num_contexts=30000):\n",
    "        '''\n",
    "        Initializes Word2VecPlain, but doesn't generate the samples yet\n",
    "        (for that, use generate_dataset)\n",
    "        Arguments:\n",
    "        data - StanfordTreebank instace\n",
    "        num_contexts - number of random contexts to use when generating a dataset\n",
    "        '''\n",
    "\n",
    "        self.data = data\n",
    "        self.num_tokens = data.num_tokens()\n",
    "        self.num_contexts = num_contexts\n",
    "        n = data.num_tokens()\n",
    "        self.ohs = [make_oh(i, n) for i in range(n)]\n",
    "        self.samples = []\n",
    "    \n",
    "    def generate_dataset(self):\n",
    "        '''\n",
    "        Generates dataset samples from random contexts\n",
    "        Note: there will be more samples than contexts because every context\n",
    "        can generate more than one sample\n",
    "        '''\n",
    "        samples = []\n",
    "        for _ in range(self.num_contexts):\n",
    "            word, targets = self.data.get_random_context()\n",
    "            i_word = self.data.index_by_token[word]\n",
    "            for target in targets:\n",
    "                i_target = self.data.index_by_token[target]\n",
    "                #samples.append((i_word, i_target))\n",
    "                samples.append((self.ohs[i_word], i_target))\n",
    "\n",
    "        self.samples = samples\n",
    "        \n",
    "    def __len__(self):\n",
    "        '''\n",
    "        Returns total number of samples\n",
    "        '''\n",
    "        return len(self.samples)\n",
    "    \n",
    "    def __getitem__(self, index):\n",
    "        '''\n",
    "        Returns i-th sample\n",
    "        \n",
    "        Return values:\n",
    "        input_vector - torch.Tensor with one-hot representation of the input vector\n",
    "        output_index - index of the target word (not torch.Tensor!)\n",
    "        '''\n",
    "        #i_w, i_t = self.samples[index]\n",
    "        #return make_oh(i_w, self.num_tokens), i_t\n",
    "        return self.samples[index]\n",
    "\n",
    "\n",
    "dataset = Word2VecPlain(data, 10)\n",
    "dataset.generate_dataset()\n",
    "input_vector, target = dataset[3]\n",
    "print(\"Sample - input: %s, target: %s\" % (input_vector, int(target))) # target should be able to convert to int\n",
    "assert isinstance(input_vector, torch.Tensor)\n",
    "assert torch.sum(input_vector) == 1.0\n",
    "assert input_vector.shape[0] == data.num_tokens()"
   ]
  },
  {
   "cell_type": "markdown",
   "metadata": {},
   "source": [
    "# Создаем модель и тренируем ее"
   ]
  },
  {
   "cell_type": "code",
   "execution_count": 5,
   "metadata": {},
   "outputs": [
    {
     "data": {
      "text/plain": [
       "Sequential(\n",
       "  (0): Linear(in_features=19538, out_features=10, bias=False)\n",
       "  (1): Linear(in_features=10, out_features=19538, bias=False)\n",
       ")"
      ]
     },
     "execution_count": 5,
     "metadata": {},
     "output_type": "execute_result"
    }
   ],
   "source": [
    "# Create the usual PyTorch structures\n",
    "dataset = Word2VecPlain(data, 30000)\n",
    "dataset.generate_dataset()\n",
    "\n",
    "# We'll be training very small word vectors!\n",
    "wordvec_dim = 10\n",
    "\n",
    "# We can use a standard sequential model for this\n",
    "nn_model = nn.Sequential(\n",
    "            nn.Linear(dataset.num_tokens, wordvec_dim, bias=False),\n",
    "            nn.Linear(wordvec_dim, dataset.num_tokens, bias=False), \n",
    "         )\n",
    "nn_model.type(torch.cuda.FloatTensor)\n",
    "nn_model.to(device)"
   ]
  },
  {
   "cell_type": "code",
   "execution_count": 6,
   "metadata": {},
   "outputs": [],
   "source": [
    "def extract_word_vectors(nn_model):\n",
    "    '''\n",
    "    Extracts word vectors from the model\n",
    "    \n",
    "    Returns:\n",
    "    input_vectors: torch.Tensor with dimensions (num_tokens, num_dimensions)\n",
    "    output_vectors: torch.Tensor with dimensions (num_tokens, num_dimensions)\n",
    "    '''\n",
    "    return (torch.t(nn_model[0].weight.data.cpu()), nn_model[1].weight.data.cpu())\n",
    "\n",
    "untrained_input_vectors, untrained_output_vectors = extract_word_vectors(nn_model)\n",
    "assert untrained_input_vectors.shape == (data.num_tokens(), wordvec_dim)\n",
    "assert untrained_output_vectors.shape == (data.num_tokens(), wordvec_dim)"
   ]
  },
  {
   "cell_type": "code",
   "execution_count": 7,
   "metadata": {},
   "outputs": [],
   "source": [
    "def train_model(model, dataset, train_loader, optimizer, scheduler, num_epochs):\n",
    "    '''\n",
    "    Trains plain word2vec using cross-entropy loss and regenerating dataset every epoch\n",
    "    \n",
    "    Returns:\n",
    "    loss_history, train_history\n",
    "    '''\n",
    "    \n",
    "    loss = nn.CrossEntropyLoss().type(torch.FloatTensor)\n",
    "    \n",
    "    loss_history = []\n",
    "    train_history = []\n",
    "    for epoch in range(num_epochs):\n",
    "        model.train() # Enter train mode\n",
    "        \n",
    "        dataset.generate_dataset() # Regenerate dataset every epoch\n",
    "        \n",
    "        loss_accum = 0\n",
    "        correct_samples = 0\n",
    "        total_samples = 0\n",
    "        for i_step, (x, y) in enumerate(train_loader):\n",
    "            x_gpu = x.to(device)\n",
    "            y_gpu = y.to(device)\n",
    "            pred = model(x_gpu)\n",
    "            loss_value = loss(pred, y_gpu)\n",
    "            optimizer.zero_grad()\n",
    "            loss_value.backward()\n",
    "            optimizer.step()\n",
    "\n",
    "            _, indices = torch.max(pred, 1)\n",
    "            correct_samples += torch.sum(indices == y_gpu)\n",
    "            total_samples += y.shape[0]\n",
    "\n",
    "            loss_accum += loss_value\n",
    "\n",
    "        ave_loss = loss_accum / i_step\n",
    "        train_accuracy = float(correct_samples) / total_samples\n",
    "        loss_history.append(float(ave_loss))\n",
    "        train_history.append(train_accuracy)\n",
    "        print(\"Epoch %i, Average loss: %f, Train accuracy: %f\" % (epoch, ave_loss, train_accuracy))\n",
    "\n",
    "        scheduler.step()\n",
    "        \n",
    "    return loss_history, train_history"
   ]
  },
  {
   "cell_type": "markdown",
   "metadata": {},
   "source": [
    "# Ну и наконец тренировка!\n",
    "\n",
    "Добейтесь значения ошибки меньше **8.0**."
   ]
  },
  {
   "cell_type": "code",
   "execution_count": 8,
   "metadata": {},
   "outputs": [
    {
     "name": "stdout",
     "output_type": "stream",
     "text": [
      "Adjusting learning rate of group 0 to 2.5000e+01.\n",
      "Epoch 0, Average loss: 9.889445, Train accuracy: 0.001039\n",
      "Adjusting learning rate of group 0 to 2.5000e+01.\n",
      "Epoch 1, Average loss: 9.838778, Train accuracy: 0.002451\n",
      "Adjusting learning rate of group 0 to 2.5000e+01.\n",
      "Epoch 2, Average loss: 9.672652, Train accuracy: 0.002257\n",
      "Adjusting learning rate of group 0 to 2.5000e+01.\n",
      "Epoch 3, Average loss: 9.516658, Train accuracy: 0.002732\n",
      "Adjusting learning rate of group 0 to 2.5000e+01.\n",
      "Epoch 4, Average loss: 9.406699, Train accuracy: 0.003380\n",
      "Adjusting learning rate of group 0 to 2.5000e+01.\n",
      "Epoch 5, Average loss: 9.295765, Train accuracy: 0.005185\n",
      "Adjusting learning rate of group 0 to 2.5000e+01.\n",
      "Epoch 6, Average loss: 9.207249, Train accuracy: 0.006657\n",
      "Adjusting learning rate of group 0 to 2.5000e+01.\n",
      "Epoch 7, Average loss: 9.114190, Train accuracy: 0.008135\n",
      "Adjusting learning rate of group 0 to 2.5000e+01.\n",
      "Epoch 8, Average loss: 9.022267, Train accuracy: 0.009736\n",
      "Adjusting learning rate of group 0 to 2.5000e+01.\n",
      "Epoch 9, Average loss: 8.963760, Train accuracy: 0.011199\n",
      "Adjusting learning rate of group 0 to 2.5000e+01.\n",
      "Epoch 10, Average loss: 8.878682, Train accuracy: 0.013215\n",
      "Adjusting learning rate of group 0 to 2.5000e+01.\n",
      "Epoch 11, Average loss: 8.855368, Train accuracy: 0.013555\n",
      "Adjusting learning rate of group 0 to 2.5000e+01.\n",
      "Epoch 12, Average loss: 8.800731, Train accuracy: 0.015125\n",
      "Adjusting learning rate of group 0 to 2.5000e+01.\n",
      "Epoch 13, Average loss: 8.769660, Train accuracy: 0.015731\n",
      "Adjusting learning rate of group 0 to 2.5000e+01.\n",
      "Epoch 14, Average loss: 8.721031, Train accuracy: 0.016969\n",
      "Adjusting learning rate of group 0 to 7.5000e+00.\n",
      "Epoch 15, Average loss: 8.578146, Train accuracy: 0.021129\n",
      "Adjusting learning rate of group 0 to 7.5000e+00.\n",
      "Epoch 16, Average loss: 8.440886, Train accuracy: 0.024092\n",
      "Adjusting learning rate of group 0 to 7.5000e+00.\n",
      "Epoch 17, Average loss: 8.374084, Train accuracy: 0.024628\n",
      "Adjusting learning rate of group 0 to 7.5000e+00.\n",
      "Epoch 18, Average loss: 8.337876, Train accuracy: 0.024638\n",
      "Adjusting learning rate of group 0 to 7.5000e+00.\n",
      "Epoch 19, Average loss: 8.279268, Train accuracy: 0.025605\n",
      "Adjusting learning rate of group 0 to 7.5000e+00.\n",
      "Epoch 20, Average loss: 8.250945, Train accuracy: 0.027310\n",
      "Adjusting learning rate of group 0 to 7.5000e+00.\n",
      "Epoch 21, Average loss: 8.215478, Train accuracy: 0.027629\n",
      "Adjusting learning rate of group 0 to 7.5000e+00.\n",
      "Epoch 22, Average loss: 8.207520, Train accuracy: 0.026964\n",
      "Adjusting learning rate of group 0 to 7.5000e+00.\n",
      "Epoch 23, Average loss: 8.184369, Train accuracy: 0.026640\n",
      "Adjusting learning rate of group 0 to 7.5000e+00.\n",
      "Epoch 24, Average loss: 8.171199, Train accuracy: 0.028153\n",
      "Adjusting learning rate of group 0 to 7.5000e+00.\n",
      "Epoch 25, Average loss: 8.145063, Train accuracy: 0.028721\n",
      "Adjusting learning rate of group 0 to 7.5000e+00.\n",
      "Epoch 26, Average loss: 8.135436, Train accuracy: 0.028935\n",
      "Adjusting learning rate of group 0 to 7.5000e+00.\n",
      "Epoch 27, Average loss: 8.116977, Train accuracy: 0.028244\n",
      "Adjusting learning rate of group 0 to 7.5000e+00.\n",
      "Epoch 28, Average loss: 8.103896, Train accuracy: 0.028866\n",
      "Adjusting learning rate of group 0 to 7.5000e+00.\n",
      "Epoch 29, Average loss: 8.093328, Train accuracy: 0.029976\n",
      "Adjusting learning rate of group 0 to 2.2500e+00.\n",
      "Epoch 30, Average loss: 8.049295, Train accuracy: 0.030957\n",
      "Adjusting learning rate of group 0 to 2.2500e+00.\n",
      "Epoch 31, Average loss: 8.018901, Train accuracy: 0.032867\n",
      "Adjusting learning rate of group 0 to 2.2500e+00.\n",
      "Epoch 32, Average loss: 8.015212, Train accuracy: 0.032402\n",
      "Adjusting learning rate of group 0 to 2.2500e+00.\n",
      "Epoch 33, Average loss: 7.989115, Train accuracy: 0.034015\n",
      "Adjusting learning rate of group 0 to 2.2500e+00.\n",
      "Epoch 34, Average loss: 7.972631, Train accuracy: 0.033634\n",
      "Adjusting learning rate of group 0 to 2.2500e+00.\n",
      "Epoch 35, Average loss: 7.939691, Train accuracy: 0.034529\n",
      "Adjusting learning rate of group 0 to 2.2500e+00.\n",
      "Epoch 36, Average loss: 7.915605, Train accuracy: 0.034297\n",
      "Adjusting learning rate of group 0 to 2.2500e+00.\n",
      "Epoch 37, Average loss: 7.936006, Train accuracy: 0.033936\n",
      "Adjusting learning rate of group 0 to 2.2500e+00.\n",
      "Epoch 38, Average loss: 7.908055, Train accuracy: 0.034091\n",
      "Adjusting learning rate of group 0 to 2.2500e+00.\n",
      "Epoch 39, Average loss: 7.918777, Train accuracy: 0.032786\n",
      "Adjusting learning rate of group 0 to 2.2500e+00.\n"
     ]
    }
   ],
   "source": [
    "# Finally, let's train the model!\n",
    "dataset = Word2VecPlain(data, 30000)\n",
    "\n",
    "wordvec_dim = 10\n",
    "nn_model = nn.Sequential(\n",
    "            nn.Linear(dataset.num_tokens, wordvec_dim, bias=False),\n",
    "            nn.Linear(wordvec_dim, dataset.num_tokens, bias=False), \n",
    "         )\n",
    "nn_model.type(torch.FloatTensor)\n",
    "nn_model.to(device)\n",
    "untrained_input_vectors, untrained_output_vectors = extract_word_vectors(nn_model)\n",
    "\n",
    "optimizer = optim.SGD(nn_model.parameters(), lr=25, weight_decay=0)\n",
    "scheduler = optim.lr_scheduler.StepLR(optimizer, step_size=15, gamma=0.3, verbose=True)\n",
    "train_loader = torch.utils.data.DataLoader(dataset, batch_size=128)\n",
    "\n",
    "loss_history, train_history = train_model(nn_model, dataset, train_loader, optimizer, scheduler, 40)"
   ]
  },
  {
   "cell_type": "code",
   "execution_count": 9,
   "metadata": {},
   "outputs": [
    {
     "data": {
      "text/plain": [
       "[<matplotlib.lines.Line2D at 0x7f54e5c870d0>]"
      ]
     },
     "execution_count": 9,
     "metadata": {},
     "output_type": "execute_result"
    },
    {
     "data": {
      "image/png": "[encoded data removed]",
      "text/plain": [
       "<Figure size 432x288 with 2 Axes>"
      ]
     },
     "metadata": {
      "needs_background": "light"
     },
     "output_type": "display_data"
    }
   ],
   "source": [
    "# Visualize training graphs\n",
    "plt.subplot(211)\n",
    "plt.plot(train_history)\n",
    "plt.subplot(212)\n",
    "plt.plot(loss_history)"
   ]
  },
  {
   "cell_type": "markdown",
   "metadata": {},
   "source": [
    "# Визуализируем вектора для разного вида слов до и после тренировки\n",
    "\n",
    "В случае успешной тренировки вы должны увидеть как вектора слов разных типов (например, знаков препинания, предлогов и остальных) разделяются семантически.\n",
    "\n",
    "Студенты - в качестве выполненного задания присылайте notebook с диаграммами!"
   ]
  },
  {
   "cell_type": "code",
   "execution_count": 10,
   "metadata": {},
   "outputs": [
    {
     "data": {
      "image/png": "[encoded data removed]",
      "text/plain": [
       "<Figure size 504x504 with 1 Axes>"
      ]
     },
     "metadata": {
      "needs_background": "light"
     },
     "output_type": "display_data"
    },
    {
     "data": {
      "image/png": "[encoded data removed]",
      "text/plain": [
       "<Figure size 504x504 with 1 Axes>"
      ]
     },
     "metadata": {
      "needs_background": "light"
     },
     "output_type": "display_data"
    }
   ],
   "source": [
    "trained_input_vectors, trained_output_vectors = extract_word_vectors(nn_model)\n",
    "assert trained_input_vectors.shape == (data.num_tokens(), wordvec_dim)\n",
    "assert trained_output_vectors.shape == (data.num_tokens(), wordvec_dim)\n",
    "\n",
    "def visualize_vectors(input_vectors, output_vectors, title=''):\n",
    "    full_vectors = torch.cat((input_vectors, output_vectors), 0)\n",
    "    wordvec_embedding = PCA(n_components=2).fit_transform(full_vectors)\n",
    "\n",
    "    # Helpful words form CS244D example\n",
    "    # http://cs224d.stanford.edu/assignment1/index.html\n",
    "    visualize_words = {'green': [\"the\", \"a\", \"an\"], \n",
    "                      'blue': [\",\", \".\", \"?\", \"!\", \"``\", \"''\", \"--\"], \n",
    "                      'brown': [\"good\", \"great\", \"cool\", \"brilliant\", \"wonderful\", \n",
    "                              \"well\", \"amazing\", \"worth\", \"sweet\", \"enjoyable\"],\n",
    "                      'orange': [\"boring\", \"bad\", \"waste\", \"dumb\", \"annoying\", \"stupid\"],\n",
    "                      'red': ['tell', 'told', 'said', 'say', 'says', 'tells', 'goes', 'go', 'went']\n",
    "                     }\n",
    "\n",
    "    plt.figure(figsize=(7,7))\n",
    "    plt.suptitle(title)\n",
    "    for color, words in visualize_words.items():\n",
    "        points = np.array([wordvec_embedding[data.index_by_token[w]] for w in words])\n",
    "        for i, word in enumerate(words):\n",
    "            plt.text(points[i, 0], points[i, 1], word, color=color,horizontalalignment='center')\n",
    "        plt.scatter(points[:, 0], points[:, 1], c=color, alpha=0.3, s=0.5)\n",
    "\n",
    "visualize_vectors(untrained_input_vectors, untrained_output_vectors, \"Untrained word vectors\")\n",
    "visualize_vectors(trained_input_vectors, trained_output_vectors, \"Trained word vectors\")"
   ]
  }
 ],
 "metadata": {
  "kernelspec": {
   "display_name": "Python 3",
   "language": "python",
   "name": "python3"
  },
  "language_info": {
   "codemirror_mode": {
    "name": "ipython",
    "version": 3
   },
   "file_extension": ".py",
   "mimetype": "text/x-python",
   "name": "python",
   "nbconvert_exporter": "python",
   "pygments_lexer": "ipython3",
   "version": "3.10.4"
  }
 },
 "nbformat": 4,
 "nbformat_minor": 2
}
